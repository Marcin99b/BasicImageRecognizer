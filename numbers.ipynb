{
 "metadata": {
  "language_info": {
   "codemirror_mode": {
    "name": "ipython",
    "version": 3
   },
   "file_extension": ".py",
   "mimetype": "text/x-python",
   "name": "python",
   "nbconvert_exporter": "python",
   "pygments_lexer": "ipython3",
   "version": "3.8.2-final"
  },
  "orig_nbformat": 2,
  "kernelspec": {
   "name": "python3",
   "display_name": "Python 3.8.2 64-bit",
   "metadata": {
    "interpreter": {
     "hash": "2db524e06e9f5f4ffedc911c917cb75e12dbc923643829bf417064a77eb14d37"
    }
   }
  }
 },
 "nbformat": 4,
 "nbformat_minor": 2,
 "cells": [
  {
   "cell_type": "code",
   "execution_count": null,
   "metadata": {},
   "outputs": [],
   "source": [
    "#remember about clearing cache after changes in other files"
   ]
  },
  {
   "cell_type": "code",
   "execution_count": 1,
   "metadata": {},
   "outputs": [
    {
     "output_type": "stream",
     "name": "stdout",
     "text": [
      "2.4.1\n"
     ]
    }
   ],
   "source": [
    "# TensorFlow and tf.keras\n",
    "import tensorflow as tf\n",
    "\n",
    "# Helper libraries\n",
    "import numpy as np\n",
    "import matplotlib.pyplot as plt\n",
    "\n",
    "##if not working, try 'activate tensorflow' in console/terminal\n",
    "print(tf.__version__)"
   ]
  },
  {
   "cell_type": "code",
   "execution_count": 101,
   "metadata": {
    "tags": [
     "outputPrepend"
    ]
   },
   "outputs": [
    {
     "output_type": "stream",
     "name": "stdout",
     "text": [
      "4 254 ... 254 254 252]\n  [255 254 254 ... 254 254 254]\n  ...\n  [254 254 253 ... 253 254 254]\n  [254 254 252 ... 254 254 253]\n  [254 254 254 ... 253 254 254]]\n\n [[253 254 254 ... 254 254 254]\n  [253 254 254 ... 253 253 254]\n  [252 254 254 ... 254 253 253]\n  ...\n  [253 254 255 ... 254 254 254]\n  [251 253 254 ... 254 254 254]\n  [252 253 252 ... 255 255 253]]\n\n ...\n\n [[255 255 255 ... 255 255 255]\n  [255 255 255 ... 255 255 255]\n  [255 255 255 ... 255 255 255]\n  ...\n  [255 255 255 ... 255 255 255]\n  [255 254 253 ... 255 255 254]\n  [254 254 255 ... 254 255 254]]\n\n [[253 254 253 ... 254 254 252]\n  [253 253 252 ... 254 253 252]\n  [253 252 250 ... 254 252 253]\n  ...\n  [253 253 253 ... 254 254 252]\n  [254 254 254 ... 253 254 250]\n  [253 253 251 ... 254 253 252]]\n\n [[254 254 254 ... 255 254 254]\n  [254 254 254 ... 255 255 255]\n  [254 254 254 ... 254 255 254]\n  ...\n  [254 253 253 ... 255 254 254]\n  [254 254 255 ... 255 255 255]\n  [254 255 255 ... 254 255 255]]]\nlabels and images loaded to memory\n"
     ]
    }
   ],
   "source": [
    "#load images as arrays\n",
    "from filesService import getNumbers\n",
    "labels, images = getNumbers()\n",
    "print(images)\n",
    "print('labels and images loaded to memory')\n"
   ]
  },
  {
   "cell_type": "code",
   "execution_count": 63,
   "metadata": {
    "tags": [
     "outputPrepend"
    ]
   },
   "outputs": [
    {
     "output_type": "stream",
     "name": "stdout",
     "text": [
      "        0.99607843]\n  [0.99607843 0.99607843 1.         ... 0.99607843 1.         0.99607843]]\n\n [[0.99215686 0.99607843 0.99215686 ... 0.99607843 0.99607843 0.98823529]\n  [0.99215686 0.99215686 0.98823529 ... 0.99607843 0.99215686 0.98823529]\n  [0.99215686 0.98823529 0.98039216 ... 0.99607843 0.98823529 0.99215686]\n  ...\n  [0.99215686 0.99215686 0.99215686 ... 0.99607843 0.99607843 0.98823529]\n  [0.99607843 0.99607843 0.99607843 ... 0.99215686 0.99607843 0.98039216]\n  [0.99215686 0.99215686 0.98431373 ... 0.99607843 0.99215686 0.98823529]]\n\n [[0.99607843 0.99607843 0.99607843 ... 1.         0.99607843 0.99607843]\n  [0.99607843 0.99607843 0.99607843 ... 1.         1.         1.        ]\n  [0.99607843 0.99607843 0.99607843 ... 0.99607843 1.         0.99607843]\n  ...\n  [0.99607843 0.99215686 0.99215686 ... 1.         0.99607843 0.99607843]\n  [0.99607843 0.99607843 1.         ... 1.         1.         1.        ]\n  [0.99607843 1.         1.         ... 0.99607843 1.         1.        ]]]\n"
     ]
    }
   ],
   "source": [
    "preparedImages = images / 255\n",
    "print(preparedImages)"
   ]
  },
  {
   "cell_type": "code",
   "execution_count": 64,
   "metadata": {},
   "outputs": [
    {
     "output_type": "stream",
     "name": "stdout",
     "text": [
      "<class 'numpy.ndarray'>\n<class 'numpy.ndarray'>\n"
     ]
    }
   ],
   "source": [
    "print(type(labels))\n",
    "print(type(preparedImages))"
   ]
  },
  {
   "cell_type": "code",
   "execution_count": null,
   "metadata": {},
   "outputs": [],
   "source": []
  },
  {
   "cell_type": "code",
   "execution_count": 4,
   "metadata": {},
   "outputs": [
    {
     "output_type": "stream",
     "name": "stdout",
     "text": [
      "(600, 16, 16)\n255\n255\n253\n250\n"
     ]
    }
   ],
   "source": [
    "print(preparedImages.shape)\n",
    "print(max(preparedImages[0][0]))\n",
    "print(max(preparedImages[1][0]))\n",
    "print(min(preparedImages[0][0]))\n",
    "print(min(preparedImages[1][0]))"
   ]
  },
  {
   "cell_type": "code",
   "execution_count": 65,
   "metadata": {},
   "outputs": [
    {
     "output_type": "display_data",
     "data": {
      "text/plain": "<Figure size 720x720 with 10 Axes>",
      "image/svg+xml": "<?xml version=\"1.0\" encoding=\"utf-8\" standalone=\"no\"?>\r\n<!DOCTYPE svg PUBLIC \"-//W3C//DTD SVG 1.1//EN\"\r\n  \"http://www.w3.org/Graphics/SVG/1.1/DTD/svg11.dtd\">\r\n<!-- Created with matplotlib (https://matplotlib.org/) -->\r\n<svg height=\"234.271228pt\" version=\"1.1\" viewBox=\"0 0 573.417241 234.271228\" width=\"573.417241pt\" xmlns=\"http://www.w3.org/2000/svg\" xmlns:xlink=\"http://www.w3.org/1999/xlink\">\r\n <metadata>\r\n  <rdf:RDF xmlns:cc=\"http://creativecommons.org/ns#\" xmlns:dc=\"http://purl.org/dc/elements/1.1/\" xmlns:rdf=\"http://www.w3.org/1999/02/22-rdf-syntax-ns#\">\r\n   <cc:Work>\r\n    <dc:type rdf:resource=\"http://purl.org/dc/dcmitype/StillImage\"/>\r\n    <dc:date>2021-03-23T21:18:30.656965</dc:date>\r\n    <dc:format>image/svg+xml</dc:format>\r\n    <dc:creator>\r\n     <cc:Agent>\r\n      <dc:title>Matplotlib v3.3.1, https://matplotlib.org/</dc:title>\r\n     </cc:Agent>\r\n    </dc:creator>\r\n   </cc:Work>\r\n  </rdf:RDF>\r\n </metadata>\r\n <defs>\r\n  <style type=\"text/css\">*{stroke-linecap:butt;stroke-linejoin:round;}</style>\r\n </defs>\r\n <g id=\"figure_1\">\r\n  <g id=\"patch_1\">\r\n   <path d=\"M 0 234.271228 \r\nL 573.417241 234.271228 \r\nL 573.417241 0 \r\nL 0 0 \r\nz\r\n\" style=\"fill:none;\"/>\r\n  </g>\r\n  <g id=\"axes_1\">\r\n   <g id=\"patch_2\">\r\n    <path d=\"M 10.7 100.924138 \r\nL 104.424138 100.924138 \r\nL 104.424138 7.2 \r\nL 10.7 7.2 \r\nz\r\n\" style=\"fill:#ffffff;\"/>\r\n   </g>\r\n   <g clip-path=\"url(#p247fb1c1c2)\">\r\n    <image height=\"94\" id=\"image423253331e\" transform=\"scale(1 -1)translate(0 -94)\" width=\"94\" x=\"10.7\" xlink:href=\"data:image/png;base64,\r\niVBORw0KGgoAAAANSUhEUgAAAF4AAABeCAYAAACq0qNuAAAC5ElEQVR4nO2dsa5pQRiFB7vQi9CIRBQ8hefQSVRqUXgF0UiUhNJpaL2AUBCi0ehotCoR3NvczvpzzyTbWfsk6ytX5ozJl0n2n3/27BPLZrN/HOD1eqHYxeNxmD+fz7csFot5zXG73WBuzXO/32FukUgkYI7WjjLfOZxz7vF4wBwbEB9H4klIPAmJJyHxJGLxeNyrqrFAlYrvHL8BqyLz9hXGYoQ/Ek9C4klIPAmJJxH4/oH1VP8kQYCXaVUSn6ymwqj2nNOOpyHxJCSehMSTkHgSMecc7NX4Vi/oaV+pVODYTCYD8+VyCfPT6QRz375JWH2WMNCOJyHxJCSehMSTkHgS5gmUhVUBjMfjt6xUKsGxq9UK5uVyGebz+RzmvV4P5lE6+VKvJmJIPAmJJyHxJLxf7ygWizBfLBZvWS6Xg2Otl02TySTMh8MhzLfbLcy73S7Mo4R2PAmJJyHxJCSehMSTCKxXJ6zKwzrEOBwO357DwrqK02g0YD6ZTGD+9fUFc+tAhYF2PAmJJyHxJCSehMSTCHwPDS6XC8xTqdT75EbFZF66NQ4NrtcrzKfTKcyr1SrMO50OzD+JDkIihsSTkHgSEk9C4kkE1lPXqkiOxyPMz+fzW1ar1eDYwWDwvdX9h/1+D3PrdxmYL9D+8DrEPySehMSTkHgSEk/C7NVY/RSLdrv9ls1mMzh2t9vBfL1ee/2m9ZE46yQrSmjHk5B4EhJPQuJJSDyJwLd6sUCVSr1eh2Ot9142mw3MrZOjZrMJ89FoBHMLnw/ZhXHx2jnteBoST0LiSUg8CYknEdonbn1Ip9Mwty4eFwoFmPf7fZi3Wi2YR6mHox1PQuJJSDwJiSch8STMj8ExsPog+Xwe5tadJt/+k0//JaxqTzuehMSTkHgSEk8iUg/XsIjSF1UttONJSDwJiSch8SQknoTEk5B4EhJPQuJJSDwJiSfh/b/+osRv6MlYaMeTkHgSEk9C4klIPIm//LjUhdwGCiEAAAAASUVORK5CYII=\" y=\"-6.924138\"/>\r\n   </g>\r\n   <g id=\"matplotlib.axis_1\">\r\n    <g id=\"text_1\">\r\n     <!-- 0 -->\r\n     <g transform=\"translate(54.380819 112.522575)scale(0.1 -0.1)\">\r\n      <defs>\r\n       <path d=\"M 31.78125 66.40625 \r\nQ 24.171875 66.40625 20.328125 58.90625 \r\nQ 16.5 51.421875 16.5 36.375 \r\nQ 16.5 21.390625 20.328125 13.890625 \r\nQ 24.171875 6.390625 31.78125 6.390625 \r\nQ 39.453125 6.390625 43.28125 13.890625 \r\nQ 47.125 21.390625 47.125 36.375 \r\nQ 47.125 51.421875 43.28125 58.90625 \r\nQ 39.453125 66.40625 31.78125 66.40625 \r\nz\r\nM 31.78125 74.21875 \r\nQ 44.046875 74.21875 50.515625 64.515625 \r\nQ 56.984375 54.828125 56.984375 36.375 \r\nQ 56.984375 17.96875 50.515625 8.265625 \r\nQ 44.046875 -1.421875 31.78125 -1.421875 \r\nQ 19.53125 -1.421875 13.0625 8.265625 \r\nQ 6.59375 17.96875 6.59375 36.375 \r\nQ 6.59375 54.828125 13.0625 64.515625 \r\nQ 19.53125 74.21875 31.78125 74.21875 \r\nz\r\n\" id=\"DejaVuSans-48\"/>\r\n      </defs>\r\n      <use xlink:href=\"#DejaVuSans-48\"/>\r\n     </g>\r\n    </g>\r\n   </g>\r\n   <g id=\"matplotlib.axis_2\"/>\r\n   <g id=\"patch_3\">\r\n    <path d=\"M 10.7 100.924138 \r\nL 10.7 7.2 \r\n\" style=\"fill:none;stroke:#000000;stroke-linecap:square;stroke-linejoin:miter;stroke-width:0.8;\"/>\r\n   </g>\r\n   <g id=\"patch_4\">\r\n    <path d=\"M 104.424138 100.924138 \r\nL 104.424138 7.2 \r\n\" style=\"fill:none;stroke:#000000;stroke-linecap:square;stroke-linejoin:miter;stroke-width:0.8;\"/>\r\n   </g>\r\n   <g id=\"patch_5\">\r\n    <path d=\"M 10.7 100.924138 \r\nL 104.424138 100.924138 \r\n\" style=\"fill:none;stroke:#000000;stroke-linecap:square;stroke-linejoin:miter;stroke-width:0.8;\"/>\r\n   </g>\r\n   <g id=\"patch_6\">\r\n    <path d=\"M 10.7 7.2 \r\nL 104.424138 7.2 \r\n\" style=\"fill:none;stroke:#000000;stroke-linecap:square;stroke-linejoin:miter;stroke-width:0.8;\"/>\r\n   </g>\r\n  </g>\r\n  <g id=\"axes_2\">\r\n   <g id=\"patch_7\">\r\n    <path d=\"M 126.148276 100.924138 \r\nL 219.872414 100.924138 \r\nL 219.872414 7.2 \r\nL 126.148276 7.2 \r\nz\r\n\" style=\"fill:#ffffff;\"/>\r\n   </g>\r\n   <g clip-path=\"url(#pc5e51f00fa)\">\r\n    <image height=\"94\" id=\"imagecf9ee6cca6\" transform=\"scale(1 -1)translate(0 -94)\" width=\"94\" x=\"126.148276\" xlink:href=\"data:image/png;base64,\r\niVBORw0KGgoAAAANSUhEUgAAAF4AAABeCAYAAACq0qNuAAACNklEQVR4nO3dMYoiQRhA4bYdQRBBjIyMPIkewtwreCNzD2DuUcyMxEhFZw4wf+1u7VTNa+F94Y9Iz6PAorpHe03TfDaVtG0bzl+vF/L6LomvXNUZHmJ4iOEhhof0msxdzTvvJLrEFQ8xPMTwEMNDDA/ptW0b7mpK7FLcAaW54iGGhxgeYniI4SEf9AX8i81mE873+304v1wuNS8nS2pn54qHGB5ieIjhIYaHZN+Bqmk+n4fz3W4XzpfLZdb7d+mMyBUPMTzE8BDDQzp1ZLBarcL59XoN5536sEwcDSRfX+k69BeGhxgeYniI4SHZu5qaj2ys1+twfjwef/zeteX+/a54iOEhhocYHmJ4SHJXk3v2UMJisQjn2+32l6+kPlc8xPAQw0MMDzE8JLmrqXl3ZzKZhPPZbBbOT6dTtWuhuOIhhocYHmJ4iOEhyHM10+k0nN9ut3Ceeq7mnbniIYaHGB5ieIjhIciuZjQahfPUbqdLTwXn8h+MO8bwEMNDDA8xPKTY08L9fv/b7PF4hK89n8/h/HA4hPPxeBzO3/kMxxUPMTzE8BDDQwwPSX5tCvH1tMPhMJzf7/dwHu2k/uT5fIbzwWDwbZb6O1PvkXstrniI4SGGhxgeUuxXcSKlPohL/QZgSvThmjruSMm9Flc8xPAQw0MMDzE8BPmm1VLHEbm7l1K7oBJc8RDDQwwPMTzE8JC3PqtJic5emib//CWSuuGRukGS3En9+Er0XwwPMTzE8BDDQ74AxT1/8Y9MmlMAAAAASUVORK5CYII=\" y=\"-6.924138\"/>\r\n   </g>\r\n   <g id=\"matplotlib.axis_3\">\r\n    <g id=\"text_2\">\r\n     <!-- 1 -->\r\n     <g transform=\"translate(169.829095 112.522575)scale(0.1 -0.1)\">\r\n      <defs>\r\n       <path d=\"M 12.40625 8.296875 \r\nL 28.515625 8.296875 \r\nL 28.515625 63.921875 \r\nL 10.984375 60.40625 \r\nL 10.984375 69.390625 \r\nL 28.421875 72.90625 \r\nL 38.28125 72.90625 \r\nL 38.28125 8.296875 \r\nL 54.390625 8.296875 \r\nL 54.390625 0 \r\nL 12.40625 0 \r\nz\r\n\" id=\"DejaVuSans-49\"/>\r\n      </defs>\r\n      <use xlink:href=\"#DejaVuSans-49\"/>\r\n     </g>\r\n    </g>\r\n   </g>\r\n   <g id=\"matplotlib.axis_4\"/>\r\n   <g id=\"patch_8\">\r\n    <path d=\"M 126.148276 100.924138 \r\nL 126.148276 7.2 \r\n\" style=\"fill:none;stroke:#000000;stroke-linecap:square;stroke-linejoin:miter;stroke-width:0.8;\"/>\r\n   </g>\r\n   <g id=\"patch_9\">\r\n    <path d=\"M 219.872414 100.924138 \r\nL 219.872414 7.2 \r\n\" style=\"fill:none;stroke:#000000;stroke-linecap:square;stroke-linejoin:miter;stroke-width:0.8;\"/>\r\n   </g>\r\n   <g id=\"patch_10\">\r\n    <path d=\"M 126.148276 100.924138 \r\nL 219.872414 100.924138 \r\n\" style=\"fill:none;stroke:#000000;stroke-linecap:square;stroke-linejoin:miter;stroke-width:0.8;\"/>\r\n   </g>\r\n   <g id=\"patch_11\">\r\n    <path d=\"M 126.148276 7.2 \r\nL 219.872414 7.2 \r\n\" style=\"fill:none;stroke:#000000;stroke-linecap:square;stroke-linejoin:miter;stroke-width:0.8;\"/>\r\n   </g>\r\n  </g>\r\n  <g id=\"axes_3\">\r\n   <g id=\"patch_12\">\r\n    <path d=\"M 241.596552 100.924138 \r\nL 335.32069 100.924138 \r\nL 335.32069 7.2 \r\nL 241.596552 7.2 \r\nz\r\n\" style=\"fill:#ffffff;\"/>\r\n   </g>\r\n   <g clip-path=\"url(#pc4934ebdd4)\">\r\n    <image height=\"94\" id=\"image3b928b746a\" transform=\"scale(1 -1)translate(0 -94)\" width=\"94\" x=\"241.596552\" xlink:href=\"data:image/png;base64,\r\niVBORw0KGgoAAAANSUhEUgAAAF4AAABeCAYAAACq0qNuAAACqUlEQVR4nO2dvc4pURiFtyGiEVegUyiEKCTcgE5F1Ho3oXcPGolSFAr3IBISiUYUEj0KEQnfdwHWW+xz9pxFznrKlbFne/Ims7N/ZhJRFP04wOv1QnGsRFEEc9++WO1YUP7rP7+jcM5JPA2JJyHxJCSeRMI5B0c1DKzRSD6fh/nlcoH5+XwO1aXYUMWTkHgSEk9C4klIPIlUqIbQiMSaA6nX6zCfz+cwT6fTML/f7zBfLpcwXywWMJ9Op2/Z6XSC14ZCFU9C4klIPAmJJyHxJLznanxWd6xRzfF4hPlgMID5aDSCeTabhXmpVIJ5q9WCOfpPs9kMXrtarWD+fD5hbqGKJyHxJCSehMSTkHgSlBWox+MB82KxCPPD4RBndyCZTAbmVt+tEZw1ClTFk5B4EhJPQuJJBFsI8WG328G83W7DfDgcBrmvz6ZYa5HFF/OhG6R14Y3Ek5B4EhJPQuJJJKyjOCGwnujlchnmm80G5tVqFebr9fqP+vUJqOJJSDwJiSch8SQknkSwhRCfTasWzWYT5mhTqXP25tftdut1XwaqeBIST0LiSUg8CYkn8VEHjC36/T7Me70ezGu1Woy9CYMqnoTEk5B4EhJPQuJJmPtqOp0OzCuVCsyv1+tbtt/v4bXWnhVro2i324X5ZDKBeZyEetGcKp6ExJOQeBIST0LiSZhzNY1GA/7AOqRbKBTeMuuJnsvlYH673WA+Ho9hbh0C/gZU8SQknoTEk5B4EhJPwtwtzHiZvS+hXvTPQBVPQuJJSDwJiSch8SQoJ7s/jRA7nb3vGWvrwkTiSUg8CYknkfrmb/qFQt/6+4+QeBIST0LiSUg8CcpXcb5hoSJuVPEkJJ6ExJOQeBISTyIVat4kmUz+dRu+fPPoSBVPQuJJSDwJiSch8SR+AaeQqJhjvkAOAAAAAElFTkSuQmCC\" y=\"-6.924138\"/>\r\n   </g>\r\n   <g id=\"matplotlib.axis_5\">\r\n    <g id=\"text_3\">\r\n     <!-- 2 -->\r\n     <g transform=\"translate(285.277371 112.522575)scale(0.1 -0.1)\">\r\n      <defs>\r\n       <path d=\"M 19.1875 8.296875 \r\nL 53.609375 8.296875 \r\nL 53.609375 0 \r\nL 7.328125 0 \r\nL 7.328125 8.296875 \r\nQ 12.9375 14.109375 22.625 23.890625 \r\nQ 32.328125 33.6875 34.8125 36.53125 \r\nQ 39.546875 41.84375 41.421875 45.53125 \r\nQ 43.3125 49.21875 43.3125 52.78125 \r\nQ 43.3125 58.59375 39.234375 62.25 \r\nQ 35.15625 65.921875 28.609375 65.921875 \r\nQ 23.96875 65.921875 18.8125 64.3125 \r\nQ 13.671875 62.703125 7.8125 59.421875 \r\nL 7.8125 69.390625 \r\nQ 13.765625 71.78125 18.9375 73 \r\nQ 24.125 74.21875 28.421875 74.21875 \r\nQ 39.75 74.21875 46.484375 68.546875 \r\nQ 53.21875 62.890625 53.21875 53.421875 \r\nQ 53.21875 48.921875 51.53125 44.890625 \r\nQ 49.859375 40.875 45.40625 35.40625 \r\nQ 44.1875 33.984375 37.640625 27.21875 \r\nQ 31.109375 20.453125 19.1875 8.296875 \r\nz\r\n\" id=\"DejaVuSans-50\"/>\r\n      </defs>\r\n      <use xlink:href=\"#DejaVuSans-50\"/>\r\n     </g>\r\n    </g>\r\n   </g>\r\n   <g id=\"matplotlib.axis_6\"/>\r\n   <g id=\"patch_13\">\r\n    <path d=\"M 241.596552 100.924138 \r\nL 241.596552 7.2 \r\n\" style=\"fill:none;stroke:#000000;stroke-linecap:square;stroke-linejoin:miter;stroke-width:0.8;\"/>\r\n   </g>\r\n   <g id=\"patch_14\">\r\n    <path d=\"M 335.32069 100.924138 \r\nL 335.32069 7.2 \r\n\" style=\"fill:none;stroke:#000000;stroke-linecap:square;stroke-linejoin:miter;stroke-width:0.8;\"/>\r\n   </g>\r\n   <g id=\"patch_15\">\r\n    <path d=\"M 241.596552 100.924138 \r\nL 335.32069 100.924138 \r\n\" style=\"fill:none;stroke:#000000;stroke-linecap:square;stroke-linejoin:miter;stroke-width:0.8;\"/>\r\n   </g>\r\n   <g id=\"patch_16\">\r\n    <path d=\"M 241.596552 7.2 \r\nL 335.32069 7.2 \r\n\" style=\"fill:none;stroke:#000000;stroke-linecap:square;stroke-linejoin:miter;stroke-width:0.8;\"/>\r\n   </g>\r\n  </g>\r\n  <g id=\"axes_4\">\r\n   <g id=\"patch_17\">\r\n    <path d=\"M 357.044828 100.924138 \r\nL 450.768966 100.924138 \r\nL 450.768966 7.2 \r\nL 357.044828 7.2 \r\nz\r\n\" style=\"fill:#ffffff;\"/>\r\n   </g>\r\n   <g clip-path=\"url(#p51a54a249f)\">\r\n    <image height=\"94\" id=\"imageb198d5681d\" transform=\"scale(1 -1)translate(0 -94)\" width=\"94\" x=\"357.044828\" xlink:href=\"data:image/png;base64,\r\niVBORw0KGgoAAAANSUhEUgAAAF4AAABeCAYAAACq0qNuAAACh0lEQVR4nO2cv64pURhH58hRCIVEo5EoNBKt0ito/InGI3gJhUiEEolG4gWETitBVCLRqrwDGvf21zfJGWbub5ysVa5Mji8rOzk7ezZfjuP8cX4ZkUjk7b/xeDx8mMR9lvcnhJcgvAjCiyC8CMKL+HIEu5pms2n6XC5n+tvtZvrFYmH60+n02mD/EVa8CMKLILwIwosgvIhvP841HMfb2cbxeDT95XIxfbVaNf1+vzf9+Xw2vdtu6nA4PDmvXbye7bDiRRBeBOFFEF4E4UVIzmr8IhqNmr7Vapm+3++bvlwuP7nlcvn6YD+AFS+C8CIIL4LwIggv4qN3NV5x29Vks9knV6lUAp2FFS+C8CIIL4LwIr7VAwRBMpk0vdsLlUajEdgsXFoNGYQXQXgRhBdBeBEfvavJZDKm3+12ph8Oh6bfbre+zfQvbtc+WPEiCC+C8CIIL4LwIlxfhLidMfj1xVsvn9nr9Uxfr9dN3263TT+ZTF4b7A04qwkZhBdBeBGEF0F4Ea5nNUHuXrxSKpVMn0gkTL/ZbIIcxxOc1YQMwosgvAjCiyC8CN8urVpnEkHvjGq1mukHg4HpO52O6UejkW8z/RRWvAjCiyC8CMKLILyIUH0Vx+2W7/1+N/31ejV9PB43vdvPrMxmsyfX7XbNZ/2CFS+C8CIIL4LwIggvIlS7Grc3TePx2PTz+dz0q9XK9LFYzPTT6fTJpdNp81m/YMWLILwIwosgvAjCiwjVrsaNYrFo+kKhYPp8Pm/6VCplemtXs16vzWf9ukXNihdBeBGEF0F4ER/xz/U3wooXQXgRhBdBeBGEF0F4EYQXQXgRhBdBeBGEF0F4EYQXQXgRhBdBeBGEF/EXHGB5deFsY1QAAAAASUVORK5CYII=\" y=\"-6.924138\"/>\r\n   </g>\r\n   <g id=\"matplotlib.axis_7\">\r\n    <g id=\"text_4\">\r\n     <!-- 3 -->\r\n     <g transform=\"translate(400.725647 112.522575)scale(0.1 -0.1)\">\r\n      <defs>\r\n       <path d=\"M 40.578125 39.3125 \r\nQ 47.65625 37.796875 51.625 33 \r\nQ 55.609375 28.21875 55.609375 21.1875 \r\nQ 55.609375 10.40625 48.1875 4.484375 \r\nQ 40.765625 -1.421875 27.09375 -1.421875 \r\nQ 22.515625 -1.421875 17.65625 -0.515625 \r\nQ 12.796875 0.390625 7.625 2.203125 \r\nL 7.625 11.71875 \r\nQ 11.71875 9.328125 16.59375 8.109375 \r\nQ 21.484375 6.890625 26.8125 6.890625 \r\nQ 36.078125 6.890625 40.9375 10.546875 \r\nQ 45.796875 14.203125 45.796875 21.1875 \r\nQ 45.796875 27.640625 41.28125 31.265625 \r\nQ 36.765625 34.90625 28.71875 34.90625 \r\nL 20.21875 34.90625 \r\nL 20.21875 43.015625 \r\nL 29.109375 43.015625 \r\nQ 36.375 43.015625 40.234375 45.921875 \r\nQ 44.09375 48.828125 44.09375 54.296875 \r\nQ 44.09375 59.90625 40.109375 62.90625 \r\nQ 36.140625 65.921875 28.71875 65.921875 \r\nQ 24.65625 65.921875 20.015625 65.03125 \r\nQ 15.375 64.15625 9.8125 62.3125 \r\nL 9.8125 71.09375 \r\nQ 15.4375 72.65625 20.34375 73.4375 \r\nQ 25.25 74.21875 29.59375 74.21875 \r\nQ 40.828125 74.21875 47.359375 69.109375 \r\nQ 53.90625 64.015625 53.90625 55.328125 \r\nQ 53.90625 49.265625 50.4375 45.09375 \r\nQ 46.96875 40.921875 40.578125 39.3125 \r\nz\r\n\" id=\"DejaVuSans-51\"/>\r\n      </defs>\r\n      <use xlink:href=\"#DejaVuSans-51\"/>\r\n     </g>\r\n    </g>\r\n   </g>\r\n   <g id=\"matplotlib.axis_8\"/>\r\n   <g id=\"patch_18\">\r\n    <path d=\"M 357.044828 100.924138 \r\nL 357.044828 7.2 \r\n\" style=\"fill:none;stroke:#000000;stroke-linecap:square;stroke-linejoin:miter;stroke-width:0.8;\"/>\r\n   </g>\r\n   <g id=\"patch_19\">\r\n    <path d=\"M 450.768966 100.924138 \r\nL 450.768966 7.2 \r\n\" style=\"fill:none;stroke:#000000;stroke-linecap:square;stroke-linejoin:miter;stroke-width:0.8;\"/>\r\n   </g>\r\n   <g id=\"patch_20\">\r\n    <path d=\"M 357.044828 100.924138 \r\nL 450.768966 100.924138 \r\n\" style=\"fill:none;stroke:#000000;stroke-linecap:square;stroke-linejoin:miter;stroke-width:0.8;\"/>\r\n   </g>\r\n   <g id=\"patch_21\">\r\n    <path d=\"M 357.044828 7.2 \r\nL 450.768966 7.2 \r\n\" style=\"fill:none;stroke:#000000;stroke-linecap:square;stroke-linejoin:miter;stroke-width:0.8;\"/>\r\n   </g>\r\n  </g>\r\n  <g id=\"axes_5\">\r\n   <g id=\"patch_22\">\r\n    <path d=\"M 472.493103 100.924138 \r\nL 566.217241 100.924138 \r\nL 566.217241 7.2 \r\nL 472.493103 7.2 \r\nz\r\n\" style=\"fill:#ffffff;\"/>\r\n   </g>\r\n   <g clip-path=\"url(#pbc07bb2336)\">\r\n    <image height=\"94\" id=\"image17d1b5fdbe\" transform=\"scale(1 -1)translate(0 -94)\" width=\"94\" x=\"472.493103\" xlink:href=\"data:image/png;base64,\r\niVBORw0KGgoAAAANSUhEUgAAAF4AAABeCAYAAACq0qNuAAADMklEQVR4nO2dvWoyQRiFd3VFEBFtJLWVNqaJhaZRSJUbSG4iVWrvwBsQQRDSWwbsrGwsVJBUEuxs0kgSEkL8vgvY8wYHZjkK5ykPk93xYWHfzN+GqVTqXwA4HA4o9kIqlYK5r3ve39/D/OHhAebX19de7usCNiASR+JJSDwJiSch8SSiJKsXC9d7ulZBLy8vML+4uHC6rwtWHzOZDG6fWE/En0g8CYknIfEkJJ5ExO7AMbhWQdvtFubFYhHm+Xw+lr2/v8O2VvVi8fPzg6/jdBXhDYknIfEkJJ6ExJM4i6rGlf1+D/Mowj+3UqnEstVqBdum02mY//7+wtyqyPTEk5B4EhJPQuJJSDyJs65qXGemFosFzK+urmKZVdWYYy9GX8wcpiJxJJ6ExJOQeBKUlyuaeAiCILi9vYX56+srzK2XpfVynUwmMG+327FsOBzCthbOS1acWgtvSDwJiSch8SQknkSU9LYYRL/fh3mz2YT5er2GubUEYzabwfzt7Q3m1WoV5kmiJ56ExJOQeBIST0LiSVDGasrlMswfHx9hPh6PYW5trbGqo5ubG5g3Go1YVigUYFtr6YgreuJJSDwJiSch8SQkngRlg/HHxwfMXTcA73Y7mFtVkJWjY1Pu7u5g28FgcGTv/kZPPAmJJyHxJCSehMSTiKxjPazFmT7YbDYwZ8wEBUEQjEajWGaN66iqOXMknoTEk5B4EhJPIsxkMvCIW9cNsy5cXl7C/OnpCebWjNLn5yfMXftYq9Vi2XK5hG1LpRLMrfEnHQZ3Ykg8CYknIfEkJJ6EWdX4WEVsVUYW9Xod5taRtd/f3zB3PbAN/ab5fA7bdrtdmD8/Pzv1RU88CYknIfEkJJ6ExJMIrc8RuR565gJjLY8rnU4H5q1WC+a9Xg/mOuL2xJB4EhJPQuJJmMs7XPGxHMT699p60ftagoIcTKdT2Pbr6wvmuVwO5uY59Ef2TXhG4klIPAmJJyHxJMJsNguHDMIwhH9gDRm4VBi+qhcfEx7WdXx9j1DLO04MiSch8SQknoTEk4is6sXCZSLEeqNb17DyJKsXC19jWPoqzokh8SQknoTEk5B4Ev8Bqk/lQ4EtBd8AAAAASUVORK5CYII=\" y=\"-6.924138\"/>\r\n   </g>\r\n   <g id=\"matplotlib.axis_9\">\r\n    <g id=\"text_5\">\r\n     <!-- 4 -->\r\n     <g transform=\"translate(516.173922 112.522575)scale(0.1 -0.1)\">\r\n      <defs>\r\n       <path d=\"M 37.796875 64.3125 \r\nL 12.890625 25.390625 \r\nL 37.796875 25.390625 \r\nz\r\nM 35.203125 72.90625 \r\nL 47.609375 72.90625 \r\nL 47.609375 25.390625 \r\nL 58.015625 25.390625 \r\nL 58.015625 17.1875 \r\nL 47.609375 17.1875 \r\nL 47.609375 0 \r\nL 37.796875 0 \r\nL 37.796875 17.1875 \r\nL 4.890625 17.1875 \r\nL 4.890625 26.703125 \r\nz\r\n\" id=\"DejaVuSans-52\"/>\r\n      </defs>\r\n      <use xlink:href=\"#DejaVuSans-52\"/>\r\n     </g>\r\n    </g>\r\n   </g>\r\n   <g id=\"matplotlib.axis_10\"/>\r\n   <g id=\"patch_23\">\r\n    <path d=\"M 472.493103 100.924138 \r\nL 472.493103 7.2 \r\n\" style=\"fill:none;stroke:#000000;stroke-linecap:square;stroke-linejoin:miter;stroke-width:0.8;\"/>\r\n   </g>\r\n   <g id=\"patch_24\">\r\n    <path d=\"M 566.217241 100.924138 \r\nL 566.217241 7.2 \r\n\" style=\"fill:none;stroke:#000000;stroke-linecap:square;stroke-linejoin:miter;stroke-width:0.8;\"/>\r\n   </g>\r\n   <g id=\"patch_25\">\r\n    <path d=\"M 472.493103 100.924138 \r\nL 566.217241 100.924138 \r\n\" style=\"fill:none;stroke:#000000;stroke-linecap:square;stroke-linejoin:miter;stroke-width:0.8;\"/>\r\n   </g>\r\n   <g id=\"patch_26\">\r\n    <path d=\"M 472.493103 7.2 \r\nL 566.217241 7.2 \r\n\" style=\"fill:none;stroke:#000000;stroke-linecap:square;stroke-linejoin:miter;stroke-width:0.8;\"/>\r\n   </g>\r\n  </g>\r\n  <g id=\"axes_6\">\r\n   <g id=\"patch_27\">\r\n    <path d=\"M 10.7 213.393103 \r\nL 104.424138 213.393103 \r\nL 104.424138 119.668966 \r\nL 10.7 119.668966 \r\nz\r\n\" style=\"fill:#ffffff;\"/>\r\n   </g>\r\n   <g clip-path=\"url(#p557e097429)\">\r\n    <image height=\"94\" id=\"image486ece9603\" transform=\"scale(1 -1)translate(0 -94)\" width=\"94\" x=\"10.7\" xlink:href=\"data:image/png;base64,\r\niVBORw0KGgoAAAANSUhEUgAAAF4AAABeCAYAAACq0qNuAAACz0lEQVR4nO2csctxYRiHD15FCVmwGUwGk5JMym5mMNuUSZmUv0cYTBabSRlMhDJKGZQk3u8POPf99T2fc96f832/a7w67zm6euq9e86Dz7Ksb+tDyGQyol8sFqIfjUaib7VaRs/1+/0293q9jO5hiv2J5EdgeBAMD4LhQTA8CJ/1QVONRiKREP1qtRL9cDgUfbvdFj2nmv8IhgfB8CAYHgTDg/ioqUaaLixLnzCCwaDol8ul6CeTieh7vd7bn8UUrngQDA+C4UEwPAiGB+HpqUYjHo+Lfrfbib5YLNrcZrMxeqYpXPEgGB4Ew4NgeBAMD+Kjphq36Xa7ok+n0zanva1yCq54EAwPguFBMDyIL9M/cPsFgZtoh2Lv9/vb99a6qNe//UTyVzA8CIYHwfAgGB6E8VTjheml0+mIvl6viz6bzb79TK2LNu1wxYNgeBAMD4LhQTA8CHWqCYVCos/lcqKPxWI2d71exWsjkYjok8mk6Eulkuir1arotWMc+Xxe9KfTSfROoE47rj2R/BaGB8HwIBgeBMODUI93aMcbBoOB6Gezmc2Fw2Hx2svlIvrD4SD6/X4v+ul0Kvrj8Sh6E0zfKHGvxiMwPAiGB8HwIBgehDrVaGdQ5vO56AuFgs25uQfiFTjVfBgMD4LhQTA8CIYHob6B0vZN+v2+6Lfbrc2lUinx2tvt9gcf7d+GKx4Ew4NgeBAMD4LhQTj2BePxeGxz2n6P9qNs6/Va9OfzWfTa/RuNhugrlYroJUzfQGkEAgH5/o7cnRjD8CAYHgTDg2B4EF9OnR+p1Wo2p00R2onjcrks+mazKfpoNCp67eyPE5j+3O7z+RQ9VzwIhgfB8CAYHoTP7/eLWwZe+CKx9g/t8Xj88CcxhyseBMODYHgQDA+C4UFAphqntim8DFc8CIYHwfAgGB4Ew4NQj3dw8nAXrngQDA+C4UEwPAiGB/ELw1Gh1SaHboYAAAAASUVORK5CYII=\" y=\"-119.393103\"/>\r\n   </g>\r\n   <g id=\"matplotlib.axis_11\">\r\n    <g id=\"text_6\">\r\n     <!-- 5 -->\r\n     <g transform=\"translate(54.380819 224.991541)scale(0.1 -0.1)\">\r\n      <defs>\r\n       <path d=\"M 10.796875 72.90625 \r\nL 49.515625 72.90625 \r\nL 49.515625 64.59375 \r\nL 19.828125 64.59375 \r\nL 19.828125 46.734375 \r\nQ 21.96875 47.46875 24.109375 47.828125 \r\nQ 26.265625 48.1875 28.421875 48.1875 \r\nQ 40.625 48.1875 47.75 41.5 \r\nQ 54.890625 34.8125 54.890625 23.390625 \r\nQ 54.890625 11.625 47.5625 5.09375 \r\nQ 40.234375 -1.421875 26.90625 -1.421875 \r\nQ 22.3125 -1.421875 17.546875 -0.640625 \r\nQ 12.796875 0.140625 7.71875 1.703125 \r\nL 7.71875 11.625 \r\nQ 12.109375 9.234375 16.796875 8.0625 \r\nQ 21.484375 6.890625 26.703125 6.890625 \r\nQ 35.15625 6.890625 40.078125 11.328125 \r\nQ 45.015625 15.765625 45.015625 23.390625 \r\nQ 45.015625 31 40.078125 35.4375 \r\nQ 35.15625 39.890625 26.703125 39.890625 \r\nQ 22.75 39.890625 18.8125 39.015625 \r\nQ 14.890625 38.140625 10.796875 36.28125 \r\nz\r\n\" id=\"DejaVuSans-53\"/>\r\n      </defs>\r\n      <use xlink:href=\"#DejaVuSans-53\"/>\r\n     </g>\r\n    </g>\r\n   </g>\r\n   <g id=\"matplotlib.axis_12\"/>\r\n   <g id=\"patch_28\">\r\n    <path d=\"M 10.7 213.393103 \r\nL 10.7 119.668966 \r\n\" style=\"fill:none;stroke:#000000;stroke-linecap:square;stroke-linejoin:miter;stroke-width:0.8;\"/>\r\n   </g>\r\n   <g id=\"patch_29\">\r\n    <path d=\"M 104.424138 213.393103 \r\nL 104.424138 119.668966 \r\n\" style=\"fill:none;stroke:#000000;stroke-linecap:square;stroke-linejoin:miter;stroke-width:0.8;\"/>\r\n   </g>\r\n   <g id=\"patch_30\">\r\n    <path d=\"M 10.7 213.393103 \r\nL 104.424138 213.393103 \r\n\" style=\"fill:none;stroke:#000000;stroke-linecap:square;stroke-linejoin:miter;stroke-width:0.8;\"/>\r\n   </g>\r\n   <g id=\"patch_31\">\r\n    <path d=\"M 10.7 119.668966 \r\nL 104.424138 119.668966 \r\n\" style=\"fill:none;stroke:#000000;stroke-linecap:square;stroke-linejoin:miter;stroke-width:0.8;\"/>\r\n   </g>\r\n  </g>\r\n  <g id=\"axes_7\">\r\n   <g id=\"patch_32\">\r\n    <path d=\"M 126.148276 213.393103 \r\nL 219.872414 213.393103 \r\nL 219.872414 119.668966 \r\nL 126.148276 119.668966 \r\nz\r\n\" style=\"fill:#ffffff;\"/>\r\n   </g>\r\n   <g clip-path=\"url(#pe2ef14e8b0)\">\r\n    <image height=\"94\" id=\"image1e4adfa587\" transform=\"scale(1 -1)translate(0 -94)\" width=\"94\" x=\"126.148276\" xlink:href=\"data:image/png;base64,\r\niVBORw0KGgoAAAANSUhEUgAAAF4AAABeCAYAAACq0qNuAAADSklEQVR4nO2cvUorURhFT34QISRYpggoQpC0WltYCGm0EUGQgJ2CNuYBbNIo5hVsxE5ia2k68RfsjBExlSAWkjQGRe8DZH+X+3Fn7s6FvcrFMHNYHMjhnMkkJicnfwIgnU4jHVKpFPSfn58DLplMwmstrHvv7OxAPzo6Cv3BwQH0Nzc30KNxfn9/w2utLhZfX1/4ma67iMhQeBIKT0LhSSg8ifTT01NsN08kEtCPj49DX6/Xob+7u4P++voa+kqlAv3r6yv0l5eXA85avVirFAurgWY8CYUnofAkFJ6EwpPwbTw4WVlZgX5tbQ36h4cH6Gu1muu55+fn0G9vb0N/f38/4LrdruuZ1urFQjOehMKTUHgSCk9C4UnEuqopFovQT09PQ7++vu66v7WSeH9/h/7q6gr6mZmZAXd2duYay88PPMgz0YwnofAkFJ6EwpNQeBLuVY21kkC/6re3t/ihxulOp9PxDsdFu92Gfm5ubsB5VzUWOoEaMhSehMKTUHgSac+P5e884vHxEfqxsTHoV1dXoT86OvrrsYQQQiaTgb7f7//xPby9LDTjSSg8CYUnofAkFJ5ErAch+Xwe+sPDQ+hnZ2ehLxQK0J+enkL/8fEB/dbWFvR7e3vQR4G12tGMJ6HwJBSehMKTUHgSae8eg4e3tzforWdubGxAv7m5Cf3u7i701t9lTk5OoG+1WgPO+xKqF814EgpPQuFJKDwJhSeRCCG4ljWeE5ipqSl47f7+PvSLi4ueoZhjGRkZgd5z0hQ3mvEkFJ6EwpNQeBIKT8J9AuXZ23l5eYE+l8tBn81moe/1etBbH4+LYvUS1fszeml1yFB4EgpPQuFJKDyJWN+rsT49Yn0epVwuQ398fAy998NsHqzVS1RvV2vGk1B4EgpPQuFJKDwJ9wlUFMzPz0NfrVahX1hYgD7OVU3caMaTUHgSCk9C4UkoPIlY92osrE+SLC8vQ48+1hZCCBcXF5GN6V+jGU9C4UkoPAmFJ0HZMrCYmJiAvtFoQL+0tAT98/NzRCOKD814EgpPQuFJKDwJhSdB2TKwsFYjzWYT+lKp5LrPMKEZT0LhSSg8CYUnofAkKHs1Uf3N5X9GM56EwpNQeBIKT0LhSfwC0XjSYlm1ivUAAAAASUVORK5CYII=\" y=\"-119.393103\"/>\r\n   </g>\r\n   <g id=\"matplotlib.axis_13\">\r\n    <g id=\"text_7\">\r\n     <!-- 6 -->\r\n     <g transform=\"translate(169.829095 224.991541)scale(0.1 -0.1)\">\r\n      <defs>\r\n       <path d=\"M 33.015625 40.375 \r\nQ 26.375 40.375 22.484375 35.828125 \r\nQ 18.609375 31.296875 18.609375 23.390625 \r\nQ 18.609375 15.53125 22.484375 10.953125 \r\nQ 26.375 6.390625 33.015625 6.390625 \r\nQ 39.65625 6.390625 43.53125 10.953125 \r\nQ 47.40625 15.53125 47.40625 23.390625 \r\nQ 47.40625 31.296875 43.53125 35.828125 \r\nQ 39.65625 40.375 33.015625 40.375 \r\nz\r\nM 52.59375 71.296875 \r\nL 52.59375 62.3125 \r\nQ 48.875 64.0625 45.09375 64.984375 \r\nQ 41.3125 65.921875 37.59375 65.921875 \r\nQ 27.828125 65.921875 22.671875 59.328125 \r\nQ 17.53125 52.734375 16.796875 39.40625 \r\nQ 19.671875 43.65625 24.015625 45.921875 \r\nQ 28.375 48.1875 33.59375 48.1875 \r\nQ 44.578125 48.1875 50.953125 41.515625 \r\nQ 57.328125 34.859375 57.328125 23.390625 \r\nQ 57.328125 12.15625 50.6875 5.359375 \r\nQ 44.046875 -1.421875 33.015625 -1.421875 \r\nQ 20.359375 -1.421875 13.671875 8.265625 \r\nQ 6.984375 17.96875 6.984375 36.375 \r\nQ 6.984375 53.65625 15.1875 63.9375 \r\nQ 23.390625 74.21875 37.203125 74.21875 \r\nQ 40.921875 74.21875 44.703125 73.484375 \r\nQ 48.484375 72.75 52.59375 71.296875 \r\nz\r\n\" id=\"DejaVuSans-54\"/>\r\n      </defs>\r\n      <use xlink:href=\"#DejaVuSans-54\"/>\r\n     </g>\r\n    </g>\r\n   </g>\r\n   <g id=\"matplotlib.axis_14\"/>\r\n   <g id=\"patch_33\">\r\n    <path d=\"M 126.148276 213.393103 \r\nL 126.148276 119.668966 \r\n\" style=\"fill:none;stroke:#000000;stroke-linecap:square;stroke-linejoin:miter;stroke-width:0.8;\"/>\r\n   </g>\r\n   <g id=\"patch_34\">\r\n    <path d=\"M 219.872414 213.393103 \r\nL 219.872414 119.668966 \r\n\" style=\"fill:none;stroke:#000000;stroke-linecap:square;stroke-linejoin:miter;stroke-width:0.8;\"/>\r\n   </g>\r\n   <g id=\"patch_35\">\r\n    <path d=\"M 126.148276 213.393103 \r\nL 219.872414 213.393103 \r\n\" style=\"fill:none;stroke:#000000;stroke-linecap:square;stroke-linejoin:miter;stroke-width:0.8;\"/>\r\n   </g>\r\n   <g id=\"patch_36\">\r\n    <path d=\"M 126.148276 119.668966 \r\nL 219.872414 119.668966 \r\n\" style=\"fill:none;stroke:#000000;stroke-linecap:square;stroke-linejoin:miter;stroke-width:0.8;\"/>\r\n   </g>\r\n  </g>\r\n  <g id=\"axes_8\">\r\n   <g id=\"patch_37\">\r\n    <path d=\"M 241.596552 213.393103 \r\nL 335.32069 213.393103 \r\nL 335.32069 119.668966 \r\nL 241.596552 119.668966 \r\nz\r\n\" style=\"fill:#ffffff;\"/>\r\n   </g>\r\n   <g clip-path=\"url(#pa108c451de)\">\r\n    <image height=\"94\" id=\"image14047a1d1b\" transform=\"scale(1 -1)translate(0 -94)\" width=\"94\" x=\"241.596552\" xlink:href=\"data:image/png;base64,\r\niVBORw0KGgoAAAANSUhEUgAAAF4AAABeCAYAAACq0qNuAAADJklEQVR4nO2cPYoqQRSFbW1/Es3MBEExEgxMjMTIQMFNmJu5AF2BrsBtKGYGhuaCobmBiAb+TfDCvgfmvmk5M3C+8FDY5UdBXW5VdxAEwTthkEqlrBjyfD5d4z3PTCaTrt+53++u8el0+ttj0Vxer5cr9/0jERsST0LiSUg8CYknEaCq5pN8umKq1+tm3u12zXw+n0cyVOmgKgXNEVZqZio+jsSTkHgSEk9C4kmEaNeNo/cSF2iOj8fDzGu1mpn3ej0zn81mkcxbvXjRiich8SQknoTEk5B4EuFvql4QaI5BEJj54XAw83K5/OO5ePtM6MRKK56ExJOQeBIST0LiSVBOoN5v+5GoSkGnQej+TC6XM/Pz+WzmlUolkh2PR3MsmqP3TpBWPAmJJyHxJCSeRMh4KNqgEOhQAm1ot9vNzPf7vZlb1z4Wi8U3Z/cP1NZAuVY8CYknIfEkJJ6ExJOgtAw+DWpJTKdTM282m5FsMBiYY70VGUIrnoTEk5B4EhJPQuJJBGEYmiWA99qH1Tf59IvBqHpBNBoNM99sNpGsWCyaY3Vp9Y8j8SQknoTEk5B4EkEulzNLA/SaC8JTwaATpUKhYOan08k1FwTqs1yv10jWbrfNsbvdzsy9rzRpxZOQeBIST0LiSUg8CdirQaDqxdrV0Y6OejKj0cjMx+OxmW+3WzNfr9dmvlwuzXwymUSyTCZjjh0Oh2aOxiO04klIPAmJJyHxJCSehPsECr0WE0evBv1Gq9Uy836/7xpfKpXMvFqtRrLL5WKOzefzZq6q5o8g8SQknoTEk5B4EvC2cBwf0UfVixdUYXnv1aDKo9PpRLIwtF8PW61WZp7NZs1cH+7/ZUg8CYknIfEkJJ5EkMlkzNLAe3PX85E07y1ib2/HW01ZVROqmFC1452LVjwJiSch8SQknkTo3Yg8rYS4WgbezRh+Bwzk1oaJLu3qVZw/jsSTkHgSEk9C4klQPgbnbQF4fweBKjIr934exXOZN5HQiqch8SQknoTEk5B4EqG3kkC9Cqvf4T0ciKu3g0CHO3H0X9z9pB8/UfwXEk9C4klIPAmJJ/EFhAvfIv0yFFAAAAAASUVORK5CYII=\" y=\"-119.393103\"/>\r\n   </g>\r\n   <g id=\"matplotlib.axis_15\">\r\n    <g id=\"text_8\">\r\n     <!-- 7 -->\r\n     <g transform=\"translate(285.277371 224.991541)scale(0.1 -0.1)\">\r\n      <defs>\r\n       <path d=\"M 8.203125 72.90625 \r\nL 55.078125 72.90625 \r\nL 55.078125 68.703125 \r\nL 28.609375 0 \r\nL 18.3125 0 \r\nL 43.21875 64.59375 \r\nL 8.203125 64.59375 \r\nz\r\n\" id=\"DejaVuSans-55\"/>\r\n      </defs>\r\n      <use xlink:href=\"#DejaVuSans-55\"/>\r\n     </g>\r\n    </g>\r\n   </g>\r\n   <g id=\"matplotlib.axis_16\"/>\r\n   <g id=\"patch_38\">\r\n    <path d=\"M 241.596552 213.393103 \r\nL 241.596552 119.668966 \r\n\" style=\"fill:none;stroke:#000000;stroke-linecap:square;stroke-linejoin:miter;stroke-width:0.8;\"/>\r\n   </g>\r\n   <g id=\"patch_39\">\r\n    <path d=\"M 335.32069 213.393103 \r\nL 335.32069 119.668966 \r\n\" style=\"fill:none;stroke:#000000;stroke-linecap:square;stroke-linejoin:miter;stroke-width:0.8;\"/>\r\n   </g>\r\n   <g id=\"patch_40\">\r\n    <path d=\"M 241.596552 213.393103 \r\nL 335.32069 213.393103 \r\n\" style=\"fill:none;stroke:#000000;stroke-linecap:square;stroke-linejoin:miter;stroke-width:0.8;\"/>\r\n   </g>\r\n   <g id=\"patch_41\">\r\n    <path d=\"M 241.596552 119.668966 \r\nL 335.32069 119.668966 \r\n\" style=\"fill:none;stroke:#000000;stroke-linecap:square;stroke-linejoin:miter;stroke-width:0.8;\"/>\r\n   </g>\r\n  </g>\r\n  <g id=\"axes_9\">\r\n   <g id=\"patch_42\">\r\n    <path d=\"M 357.044828 213.393103 \r\nL 450.768966 213.393103 \r\nL 450.768966 119.668966 \r\nL 357.044828 119.668966 \r\nz\r\n\" style=\"fill:#ffffff;\"/>\r\n   </g>\r\n   <g clip-path=\"url(#pfe55636161)\">\r\n    <image height=\"94\" id=\"image66c13dcfa1\" transform=\"scale(1 -1)translate(0 -94)\" width=\"94\" x=\"357.044828\" xlink:href=\"data:image/png;base64,\r\niVBORw0KGgoAAAANSUhEUgAAAF4AAABeCAYAAACq0qNuAAACuklEQVR4nO2cvWoqURhFx2H8KXwIsbaQFGorgqWvoQQfJDa+gCDYi42dpgqCfwgWCkIQhBQK1jYa9D7A7I/cAyP75rJXuThMjosDczgzmZjv+w/Pgfv9Dn0QBCH3/f3tcmkT3/ehj8fj0N9uN+ituT8Ta+7Yiqej8CQUnoTCk1B4EjFrV2PdjS3QDqZUKsGx5XIZ+svlAv1oNIJ+t9v95ezcsX5/VDsjrXgSCk9C4UkoPAmFJxELggDuaqy7t+Xr9XrI1Wo1OLbT6UD/eOBjo0KhAP1+v4e+2+1C74J2Nf8pCk9C4UkoPAmFJxFLJBJwK3G9Xp0uNB6PQ+719RWO/fz8dLq2Rbvdhn4wGEA/mUwi+btRoBVPQuFJKDwJhSeh8CQCa/fielbx8fERcs1mE459e3uDPpVKQX88HqFfrVbQp9Np6P8ltOJJKDwJhSeh8CRinufBIwP0Eqrn2TfXZDIZcovFAo7N5XLQv7+/Qz+bzaDP5/PQW0cVX19f0LsQ1QMSrXgSCk9C4UkoPAmFJ4G3Lp776x2NRiPk+v0+HFutVqHPZDLQv7y8QH86naA/n8/QR4H1+113O1rxJBSehMKTUHgSCk8iiOrsIZvNhpz1oMJ6sGH56XTqNBcGOqv5JSg8CYUnofAkFJ5EENW/lvR6vZBrtVpw7HK5hH673UYyl9+AVjwJhSeh8CQUnoTCkzDfq4mCYrEIvfXey2azgX44HEJvvVezXq+hf+ZnVlzRiieh8CQUnoTCk1B4EuZ7NVEwn8+ht85qrM+jWB+Vq1Qq0B8Oh58nR0YrnoTCk1B4EgpPQuFJPPWsRthoxZNQeBIKT0LhSSg8CYUnofAkFJ6EwpNQeBIKT0LhSSg8CYUnofAkFJ6EwpNQeBIKT0LhSSg8CYUnEdlnU4QbWvEkFJ6EwpNQeBIKT+IPcS2z4WZLtdUAAAAASUVORK5CYII=\" y=\"-119.393103\"/>\r\n   </g>\r\n   <g id=\"matplotlib.axis_17\">\r\n    <g id=\"text_9\">\r\n     <!-- 8 -->\r\n     <g transform=\"translate(400.725647 224.991541)scale(0.1 -0.1)\">\r\n      <defs>\r\n       <path d=\"M 31.78125 34.625 \r\nQ 24.75 34.625 20.71875 30.859375 \r\nQ 16.703125 27.09375 16.703125 20.515625 \r\nQ 16.703125 13.921875 20.71875 10.15625 \r\nQ 24.75 6.390625 31.78125 6.390625 \r\nQ 38.8125 6.390625 42.859375 10.171875 \r\nQ 46.921875 13.96875 46.921875 20.515625 \r\nQ 46.921875 27.09375 42.890625 30.859375 \r\nQ 38.875 34.625 31.78125 34.625 \r\nz\r\nM 21.921875 38.8125 \r\nQ 15.578125 40.375 12.03125 44.71875 \r\nQ 8.5 49.078125 8.5 55.328125 \r\nQ 8.5 64.0625 14.71875 69.140625 \r\nQ 20.953125 74.21875 31.78125 74.21875 \r\nQ 42.671875 74.21875 48.875 69.140625 \r\nQ 55.078125 64.0625 55.078125 55.328125 \r\nQ 55.078125 49.078125 51.53125 44.71875 \r\nQ 48 40.375 41.703125 38.8125 \r\nQ 48.828125 37.15625 52.796875 32.3125 \r\nQ 56.78125 27.484375 56.78125 20.515625 \r\nQ 56.78125 9.90625 50.3125 4.234375 \r\nQ 43.84375 -1.421875 31.78125 -1.421875 \r\nQ 19.734375 -1.421875 13.25 4.234375 \r\nQ 6.78125 9.90625 6.78125 20.515625 \r\nQ 6.78125 27.484375 10.78125 32.3125 \r\nQ 14.796875 37.15625 21.921875 38.8125 \r\nz\r\nM 18.3125 54.390625 \r\nQ 18.3125 48.734375 21.84375 45.5625 \r\nQ 25.390625 42.390625 31.78125 42.390625 \r\nQ 38.140625 42.390625 41.71875 45.5625 \r\nQ 45.3125 48.734375 45.3125 54.390625 \r\nQ 45.3125 60.0625 41.71875 63.234375 \r\nQ 38.140625 66.40625 31.78125 66.40625 \r\nQ 25.390625 66.40625 21.84375 63.234375 \r\nQ 18.3125 60.0625 18.3125 54.390625 \r\nz\r\n\" id=\"DejaVuSans-56\"/>\r\n      </defs>\r\n      <use xlink:href=\"#DejaVuSans-56\"/>\r\n     </g>\r\n    </g>\r\n   </g>\r\n   <g id=\"matplotlib.axis_18\"/>\r\n   <g id=\"patch_43\">\r\n    <path d=\"M 357.044828 213.393103 \r\nL 357.044828 119.668966 \r\n\" style=\"fill:none;stroke:#000000;stroke-linecap:square;stroke-linejoin:miter;stroke-width:0.8;\"/>\r\n   </g>\r\n   <g id=\"patch_44\">\r\n    <path d=\"M 450.768966 213.393103 \r\nL 450.768966 119.668966 \r\n\" style=\"fill:none;stroke:#000000;stroke-linecap:square;stroke-linejoin:miter;stroke-width:0.8;\"/>\r\n   </g>\r\n   <g id=\"patch_45\">\r\n    <path d=\"M 357.044828 213.393103 \r\nL 450.768966 213.393103 \r\n\" style=\"fill:none;stroke:#000000;stroke-linecap:square;stroke-linejoin:miter;stroke-width:0.8;\"/>\r\n   </g>\r\n   <g id=\"patch_46\">\r\n    <path d=\"M 357.044828 119.668966 \r\nL 450.768966 119.668966 \r\n\" style=\"fill:none;stroke:#000000;stroke-linecap:square;stroke-linejoin:miter;stroke-width:0.8;\"/>\r\n   </g>\r\n  </g>\r\n  <g id=\"axes_10\">\r\n   <g id=\"patch_47\">\r\n    <path d=\"M 472.493103 213.393103 \r\nL 566.217241 213.393103 \r\nL 566.217241 119.668966 \r\nL 472.493103 119.668966 \r\nz\r\n\" style=\"fill:#ffffff;\"/>\r\n   </g>\r\n   <g clip-path=\"url(#p51e301d075)\">\r\n    <image height=\"94\" id=\"image76de94da5c\" transform=\"scale(1 -1)translate(0 -94)\" width=\"94\" x=\"472.493103\" xlink:href=\"data:image/png;base64,\r\niVBORw0KGgoAAAANSUhEUgAAAF4AAABeCAYAAACq0qNuAAACwElEQVR4nO2cva5pQRiGZ69IFKKm1EgoUAt3oBSdSqvSuQFKlUTrLiRa4gI0aERFohASP/ET5/THO9ln7T1rv1vyPuWblZnx5Et8WTNrPjzP+2MAz+cTxRTm8znMG40GzAeDAczD4TDM7/f7Sxb07/cCHV1YkXgSEk9C4klIPIkQewH/w/l8hvl6vfY1DupejOF0cKp4EhJPQuJJSDwJiScRcvWPHolEXrLb7QaftXUXNg6Hw5fW9C+/6f2TKp6ExJOQeBIST0LiSYQ8D7v32wGcTicX64FcLheYx2KxwOYMGlU8CYknIfEkJJ6ExJNw9q4mSKbTKczT6TTMh8NhkMtxgiqehMSTkHgSEk/iLY53LBYLmBeLxR9eiTtU8SQknoTEk5B4EhJPwroRYoPximE2m8G8Xq//8ErcoYonIfEkJJ6ExJOQeBIfxhj4gfFvAh2INcaY1WoF82w2C/PNZuNqSd9GFU9C4klIPAmJJyHxJHzvQPl5t2N7r5NMJmGez+dhvlwuYf54PGBeLpdh3u12Ye4HV4d8VfEkJJ6ExJOQeBIST8J3V+Pn37tSqcC8VqvBvN/vwzyVSsE8Ho/DPJfLfb64L+JqB04VT0LiSUg8CYknIfEkAj0t3Gq1YG7rasbjsa/xbR8eN5tNmCcSCZjbdrKCRBVPQuJJSDwJiSch8SScdTXRaPQlOx6P8NnJZOJkTtvVt7bL5vb7/bfn1A7UmyPxJCSehMSTkHgSzroadBnc9XqFz5ZKJZiPRiOYV6tVmHc6HZgXCgWYu+hqbN2L325HFU9C4klIPAmJJxHopziZTAbm7XYb5rvdDua2Q6u9Xg/m2+0W5i4O3LpCFU9C4klIPAmJJyHxJN7iA2MGrjY8rOM7GUX4RuJJSDwJiSch8STe4orboPF7IZ6TOX98RmGMkXgaEk9C4klIPIm/13+uVpT/kgsAAAAASUVORK5CYII=\" y=\"-119.393103\"/>\r\n   </g>\r\n   <g id=\"matplotlib.axis_19\">\r\n    <g id=\"text_10\">\r\n     <!-- 9 -->\r\n     <g transform=\"translate(516.173922 224.991541)scale(0.1 -0.1)\">\r\n      <defs>\r\n       <path d=\"M 10.984375 1.515625 \r\nL 10.984375 10.5 \r\nQ 14.703125 8.734375 18.5 7.8125 \r\nQ 22.3125 6.890625 25.984375 6.890625 \r\nQ 35.75 6.890625 40.890625 13.453125 \r\nQ 46.046875 20.015625 46.78125 33.40625 \r\nQ 43.953125 29.203125 39.59375 26.953125 \r\nQ 35.25 24.703125 29.984375 24.703125 \r\nQ 19.046875 24.703125 12.671875 31.3125 \r\nQ 6.296875 37.9375 6.296875 49.421875 \r\nQ 6.296875 60.640625 12.9375 67.421875 \r\nQ 19.578125 74.21875 30.609375 74.21875 \r\nQ 43.265625 74.21875 49.921875 64.515625 \r\nQ 56.59375 54.828125 56.59375 36.375 \r\nQ 56.59375 19.140625 48.40625 8.859375 \r\nQ 40.234375 -1.421875 26.421875 -1.421875 \r\nQ 22.703125 -1.421875 18.890625 -0.6875 \r\nQ 15.09375 0.046875 10.984375 1.515625 \r\nz\r\nM 30.609375 32.421875 \r\nQ 37.25 32.421875 41.125 36.953125 \r\nQ 45.015625 41.5 45.015625 49.421875 \r\nQ 45.015625 57.28125 41.125 61.84375 \r\nQ 37.25 66.40625 30.609375 66.40625 \r\nQ 23.96875 66.40625 20.09375 61.84375 \r\nQ 16.21875 57.28125 16.21875 49.421875 \r\nQ 16.21875 41.5 20.09375 36.953125 \r\nQ 23.96875 32.421875 30.609375 32.421875 \r\nz\r\n\" id=\"DejaVuSans-57\"/>\r\n      </defs>\r\n      <use xlink:href=\"#DejaVuSans-57\"/>\r\n     </g>\r\n    </g>\r\n   </g>\r\n   <g id=\"matplotlib.axis_20\"/>\r\n   <g id=\"patch_48\">\r\n    <path d=\"M 472.493103 213.393103 \r\nL 472.493103 119.668966 \r\n\" style=\"fill:none;stroke:#000000;stroke-linecap:square;stroke-linejoin:miter;stroke-width:0.8;\"/>\r\n   </g>\r\n   <g id=\"patch_49\">\r\n    <path d=\"M 566.217241 213.393103 \r\nL 566.217241 119.668966 \r\n\" style=\"fill:none;stroke:#000000;stroke-linecap:square;stroke-linejoin:miter;stroke-width:0.8;\"/>\r\n   </g>\r\n   <g id=\"patch_50\">\r\n    <path d=\"M 472.493103 213.393103 \r\nL 566.217241 213.393103 \r\n\" style=\"fill:none;stroke:#000000;stroke-linecap:square;stroke-linejoin:miter;stroke-width:0.8;\"/>\r\n   </g>\r\n   <g id=\"patch_51\">\r\n    <path d=\"M 472.493103 119.668966 \r\nL 566.217241 119.668966 \r\n\" style=\"fill:none;stroke:#000000;stroke-linecap:square;stroke-linejoin:miter;stroke-width:0.8;\"/>\r\n   </g>\r\n  </g>\r\n </g>\r\n <defs>\r\n  <clipPath id=\"p247fb1c1c2\">\r\n   <rect height=\"93.724138\" width=\"93.724138\" x=\"10.7\" y=\"7.2\"/>\r\n  </clipPath>\r\n  <clipPath id=\"pc5e51f00fa\">\r\n   <rect height=\"93.724138\" width=\"93.724138\" x=\"126.148276\" y=\"7.2\"/>\r\n  </clipPath>\r\n  <clipPath id=\"pc4934ebdd4\">\r\n   <rect height=\"93.724138\" width=\"93.724138\" x=\"241.596552\" y=\"7.2\"/>\r\n  </clipPath>\r\n  <clipPath id=\"p51a54a249f\">\r\n   <rect height=\"93.724138\" width=\"93.724138\" x=\"357.044828\" y=\"7.2\"/>\r\n  </clipPath>\r\n  <clipPath id=\"pbc07bb2336\">\r\n   <rect height=\"93.724138\" width=\"93.724138\" x=\"472.493103\" y=\"7.2\"/>\r\n  </clipPath>\r\n  <clipPath id=\"p557e097429\">\r\n   <rect height=\"93.724138\" width=\"93.724138\" x=\"10.7\" y=\"119.668966\"/>\r\n  </clipPath>\r\n  <clipPath id=\"pe2ef14e8b0\">\r\n   <rect height=\"93.724138\" width=\"93.724138\" x=\"126.148276\" y=\"119.668966\"/>\r\n  </clipPath>\r\n  <clipPath id=\"pa108c451de\">\r\n   <rect height=\"93.724138\" width=\"93.724138\" x=\"241.596552\" y=\"119.668966\"/>\r\n  </clipPath>\r\n  <clipPath id=\"pfe55636161\">\r\n   <rect height=\"93.724138\" width=\"93.724138\" x=\"357.044828\" y=\"119.668966\"/>\r\n  </clipPath>\r\n  <clipPath id=\"p51e301d075\">\r\n   <rect height=\"93.724138\" width=\"93.724138\" x=\"472.493103\" y=\"119.668966\"/>\r\n  </clipPath>\r\n </defs>\r\n</svg>\r\n",
      "image/png": "[encoded data removed]"
     },
     "metadata": {}
    }
   ],
   "source": [
    "serie = 0\n",
    "\n",
    "plt.figure(figsize=(10,10))\n",
    "prevLabel = -1\n",
    "for i in range(0, len(labels)):\n",
    "    if labels[i] == prevLabel:\n",
    "        continue\n",
    "    plt.subplot(5,5,int(labels[i])+1)\n",
    "    plt.xticks([])\n",
    "    plt.yticks([])\n",
    "    plt.grid(False)\n",
    "    plt.imshow(preparedImages[i+serie], cmap=plt.cm.binary)\n",
    "    plt.xlabel(labels[i])\n",
    "    prevLabel = labels[i]\n",
    "plt.show()"
   ]
  },
  {
   "cell_type": "code",
   "execution_count": 78,
   "metadata": {},
   "outputs": [
    {
     "output_type": "execute_result",
     "data": {
      "text/plain": [
       "(600, 16, 16)"
      ]
     },
     "metadata": {},
     "execution_count": 78
    }
   ],
   "source": [
    "preparedImages.shape"
   ]
  },
  {
   "cell_type": "code",
   "execution_count": 73,
   "metadata": {},
   "outputs": [
    {
     "output_type": "stream",
     "name": "stdout",
     "text": [
      "True\n"
     ]
    }
   ],
   "source": [
    "model = tf.keras.Sequential([\n",
    "    tf.keras.layers.Flatten(input_shape=(16, 16)),\n",
    "    tf.keras.layers.Dense(128, activation='relu'),\n",
    "    tf.keras.layers.Dense(10)\n",
    "])\n",
    "print(model.built)"
   ]
  },
  {
   "cell_type": "code",
   "execution_count": 76,
   "metadata": {},
   "outputs": [],
   "source": [
    "model.compile(optimizer='adam',\n",
    "              loss=tf.keras.losses.SparseCategoricalCrossentropy(from_logits=True),\n",
    "              metrics=['accuracy'])"
   ]
  },
  {
   "cell_type": "code",
   "execution_count": 111,
   "metadata": {},
   "outputs": [
    {
     "output_type": "execute_result",
     "data": {
      "text/plain": [
       ", 5, 5, 5, 5, 5, 5, 5, 5,\n",
       "       5, 5, 5, 5, 5, 5, 5, 5, 5, 5, 5, 5, 5, 5, 5, 5, 5, 5, 5, 5, 5, 5,\n",
       "       5, 5, 5, 5, 5, 5, 5, 5, 5, 5, 5, 5, 5, 5, 5, 5, 5, 5, 5, 5, 5, 5,\n",
       "       5, 5, 5, 5, 5, 5, 5, 5, 6, 6, 6, 6, 6, 6, 6, 6, 6, 6, 6, 6, 6, 6,\n",
       "       6, 6, 6, 6, 6, 6, 6, 6, 6, 6, 6, 6, 6, 6, 6, 6, 6, 6, 6, 6, 6, 6,\n",
       "       6, 6, 6, 6, 6, 6, 6, 6, 6, 6, 6, 6, 6, 6, 6, 6, 6, 6, 6, 6, 6, 6,\n",
       "       6, 6, 7, 7, 7, 7, 7, 7, 7, 7, 7, 7, 7, 7, 7, 7, 7, 7, 7, 7, 7, 7,\n",
       "       7, 7, 7, 7, 7, 7, 7, 7, 7, 7, 7, 7, 7, 7, 7, 7, 7, 7, 7, 7, 7, 7,\n",
       "       7, 7, 7, 7, 7, 7, 7, 7, 7, 7, 7, 7, 7, 7, 7, 7, 7, 7, 8, 8, 8, 8,\n",
       "       8, 8, 8, 8, 8, 8, 8, 8, 8, 8, 8, 8, 8, 8, 8, 8, 8, 8, 8, 8, 8, 8,\n",
       "       8, 8, 8, 8, 8, 8, 8, 8, 8, 8, 8, 8, 8, 8, 8, 8, 8, 8, 8, 8, 8, 8,\n",
       "       8, 8, 8, 8, 8, 8, 8, 8, 8, 8, 8, 8, 9, 9, 9, 9, 9, 9, 9, 9, 9, 9,\n",
       "       9, 9, 9, 9, 9, 9, 9, 9, 9, 9, 9, 9, 9, 9, 9, 9, 9, 9, 9, 9, 9, 9,\n",
       "       9, 9, 9, 9, 9, 9, 9, 9, 9, 9, 9, 9, 9, 9, 9, 9, 9, 9, 9, 9, 9, 9,\n",
       "       9, 9, 9, 9, 9, 9])"
      ]
     },
     "metadata": {},
     "execution_count": 111
    }
   ],
   "source": [
    "def mapLabels(x):\n",
    "    return int(x)\n",
    "convertedLabels = np.array(list(map(mapLabels, labels)))\n",
    "convertedLabels"
   ]
  },
  {
   "cell_type": "code",
   "execution_count": 112,
   "metadata": {},
   "outputs": [
    {
     "output_type": "stream",
     "name": "stdout",
     "text": [
      "Epoch 1/10\n",
      "19/19 [==============================] - 0s 1ms/step - loss: 2.2592 - accuracy: 0.1800\n",
      "Epoch 2/10\n",
      "19/19 [==============================] - 0s 2ms/step - loss: 2.1990 - accuracy: 0.2533\n",
      "Epoch 3/10\n",
      "19/19 [==============================] - 0s 1ms/step - loss: 2.1678 - accuracy: 0.2467\n",
      "Epoch 4/10\n",
      "19/19 [==============================] - 0s 2ms/step - loss: 2.1729 - accuracy: 0.2050\n",
      "Epoch 5/10\n",
      "19/19 [==============================] - 0s 2ms/step - loss: 2.1610 - accuracy: 0.2533\n",
      "Epoch 6/10\n",
      "19/19 [==============================] - 0s 1ms/step - loss: 2.1339 - accuracy: 0.2367\n",
      "Epoch 7/10\n",
      "19/19 [==============================] - 0s 2ms/step - loss: 2.1409 - accuracy: 0.2533\n",
      "Epoch 8/10\n",
      "19/19 [==============================] - 0s 2ms/step - loss: 2.1192 - accuracy: 0.2717\n",
      "Epoch 9/10\n",
      "19/19 [==============================] - 0s 1ms/step - loss: 2.0870 - accuracy: 0.2867\n",
      "Epoch 10/10\n",
      "19/19 [==============================] - 0s 1ms/step - loss: 2.0531 - accuracy: 0.4083\n"
     ]
    },
    {
     "output_type": "execute_result",
     "data": {
      "text/plain": [
       "<tensorflow.python.keras.callbacks.History at 0x26f48c0eb80>"
      ]
     },
     "metadata": {},
     "execution_count": 112
    }
   ],
   "source": [
    "model.fit(preparedImages, convertedLabels, epochs=10)"
   ]
  },
  {
   "cell_type": "code",
   "execution_count": 119,
   "metadata": {},
   "outputs": [
    {
     "output_type": "stream",
     "name": "stdout",
     "text": [
      "3/3 - 0s - loss: 2.0710 - accuracy: 0.3111\n"
     ]
    }
   ],
   "source": [
    "test_loss, test_acc = model.evaluate(preparedImages[:90],  convertedLabels[:90], verbose=2)"
   ]
  },
  {
   "cell_type": "code",
   "execution_count": 116,
   "metadata": {},
   "outputs": [],
   "source": [
    "# Load the TensorBoard notebook extension\n",
    "%load_ext tensorboard"
   ]
  },
  {
   "cell_type": "code",
   "execution_count": 123,
   "metadata": {},
   "outputs": [
    {
     "output_type": "display_data",
     "data": {
      "text/plain": "ERROR: Failed to launch TensorBoard (exited with 1).\nContents of stderr:\n2021-03-23 22:05:08.593589: W tensorflow/stream_executor/platform/default/dso_loader.cc:60] Could not load dynamic library 'cudart64_110.dll'; dlerror: cudart64_110.dll not found\n2021-03-23 22:05:08.595156: I tensorflow/stream_executor/cuda/cudart_stub.cc:29] Ignore above cudart dlerror if you do not have a GPU set up on your machine.\nError: A logdir or db must be specified. For example `tensorboard --logdir mylogdir` or `tensorboard --db sqlite:~/.tensorboard.db`. Run `tensorboard --helpfull` for details and examples."
     },
     "metadata": {}
    }
   ],
   "source": [
    "%tensorboard "
   ]
  },
  {
   "cell_type": "code",
   "execution_count": null,
   "metadata": {},
   "outputs": [],
   "source": []
  }
 ]
}