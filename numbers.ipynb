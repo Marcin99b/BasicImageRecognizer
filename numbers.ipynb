{
 "metadata": {
  "language_info": {
   "codemirror_mode": {
    "name": "ipython",
    "version": 3
   },
   "file_extension": ".py",
   "mimetype": "text/x-python",
   "name": "python",
   "nbconvert_exporter": "python",
   "pygments_lexer": "ipython3",
   "version": "3.8.2-final"
  },
  "orig_nbformat": 2,
  "kernelspec": {
   "name": "python3",
   "display_name": "Python 3.8.2 64-bit",
   "metadata": {
    "interpreter": {
     "hash": "2db524e06e9f5f4ffedc911c917cb75e12dbc923643829bf417064a77eb14d37"
    }
   }
  }
 },
 "nbformat": 4,
 "nbformat_minor": 2,
 "cells": [
  {
   "cell_type": "code",
   "execution_count": null,
   "metadata": {},
   "outputs": [],
   "source": [
    "#remember about clearing cache after changes in other files"
   ]
  },
  {
   "cell_type": "code",
   "execution_count": 1,
   "metadata": {},
   "outputs": [
    {
     "output_type": "stream",
     "name": "stdout",
     "text": [
      "2.4.1\n"
     ]
    }
   ],
   "source": [
    "# TensorFlow and tf.keras\n",
    "import tensorflow as tf\n",
    "\n",
    "# Helper libraries\n",
    "import numpy as np\n",
    "import matplotlib.pyplot as plt\n",
    "\n",
    "##if not working, try 'activate tensorflow' in console/terminal\n",
    "print(tf.__version__)"
   ]
  },
  {
   "cell_type": "code",
   "execution_count": 3,
   "metadata": {
    "tags": []
   },
   "outputs": [
    {
     "output_type": "stream",
     "name": "stdout",
     "text": [
      "[[[0.         0.         0.66666667 ... 0.33202614 0.33202614 0.66535948]\n  [0.         0.33333333 0.33333333 ... 0.33333333 0.33202614 0.33202614]\n  [0.66535948 0.66535948 0.33202614 ... 0.33202614 0.33202614 0.33202614]\n  ...\n  [0.99215686 0.66535948 0.33202614 ... 0.99869281 0.33333333 0.66666667]\n  [0.99869281 0.33333333 0.33333333 ... 0.66535948 0.         0.33333333]\n  [0.9254902  0.92287582 0.93202614 ... 0.97254902 0.98823529 0.98823529]]\n\n [[0.33202614 0.66535948 0.33202614 ... 0.33202614 0.99084967 0.9869281 ]\n  [0.33333333 0.33333333 0.33202614 ... 0.33333333 0.33202614 0.98823529]\n  [0.         1.         0.33333333 ... 0.33202614 0.33202614 0.99738562]\n  ...\n  [0.33202614 0.33333333 0.66535948 ... 0.33333333 0.66535948 0.66535948]\n  [1.         1.         1.         ... 0.         1.         0.99738562]\n  [0.99607843 0.99607843 0.99738562 ... 1.         1.         0.66535948]]\n\n [[0.6627451  0.66405229 0.66535948 ... 0.99869281 0.66666667 1.        ]\n  [0.99738562 0.66405229 0.33202614 ... 0.99607843 0.99607843 1.        ]\n  [0.99607843 0.66535948 0.66535948 ... 0.99346405 1.         0.33333333]\n  ...\n  [0.99215686 0.66405229 0.99869281 ... 0.33202614 0.66535948 0.66405229]\n  [0.98823529 0.99869281 0.99607843 ... 0.33333333 0.33333333 0.66666667]\n  [0.99346405 0.99738562 0.99738562 ... 0.         0.33333333 0.99477124]]\n\n ...\n\n [[0.         0.         0.         ... 0.         0.         0.        ]\n  [0.         0.         0.         ... 0.         0.         0.        ]\n  [0.         0.         0.         ... 0.         0.         0.        ]\n  ...\n  [0.         0.33333333 0.33202614 ... 0.         0.         0.33202614]\n  [0.33333333 0.         0.99607843 ... 0.         0.         1.        ]\n  [0.33333333 1.         1.         ... 1.         0.         1.        ]]\n\n [[0.99738562 0.66666667 0.66535948 ... 0.33333333 0.66666667 0.99346405]\n  [0.99738562 0.66405229 0.66405229 ... 0.66666667 0.99477124 0.99215686]\n  [1.         0.99607843 0.6627451  ... 0.99738562 0.99477124 0.99346405]\n  ...\n  [1.         1.         1.         ... 0.99738562 0.66143791 0.98954248]\n  [0.99738562 0.33333333 0.99869281 ... 0.66405229 0.6627451  0.99215686]\n  [0.99477124 0.99477124 0.99084967 ... 0.66405229 0.99738562 0.99477124]]\n\n [[0.33333333 1.         1.         ... 1.         0.33333333 0.66666667]\n  [1.         1.         1.         ... 0.33333333 0.         1.        ]\n  [0.33333333 0.66535948 0.66535948 ... 0.33333333 0.         0.33333333]\n  ...\n  [0.66535948 0.66666667 0.33333333 ... 0.         0.         0.        ]\n  [0.33202614 0.         0.         ... 0.         0.         1.        ]\n  [0.99869281 1.         0.         ... 0.         0.         1.        ]]]\nlabels and images loaded to memory\n"
     ]
    }
   ],
   "source": [
    "#load images as arrays\n",
    "from filesService import getNumbers\n",
    "labels, images = getNumbers()\n",
    "print(images)\n",
    "print('labels and images loaded to memory')\n"
   ]
  },
  {
   "cell_type": "code",
   "execution_count": 4,
   "metadata": {},
   "outputs": [
    {
     "output_type": "stream",
     "name": "stdout",
     "text": [
      "<class 'numpy.ndarray'>\n<class 'numpy.ndarray'>\n"
     ]
    }
   ],
   "source": [
    "print(type(labels))\n",
    "print(type(images))"
   ]
  },
  {
   "cell_type": "code",
   "execution_count": 5,
   "metadata": {},
   "outputs": [
    {
     "output_type": "stream",
     "name": "stdout",
     "text": [
      "(600, 22, 22)\n0.9986928104575163\n1.0\n0.0\n0.0\n"
     ]
    }
   ],
   "source": [
    "print(images.shape)\n",
    "print(max(images[0][0]))\n",
    "print(max(images[1][0]))\n",
    "print(min(images[0][0]))\n",
    "print(min(images[1][0]))"
   ]
  },
  {
   "cell_type": "code",
   "execution_count": 20,
   "metadata": {},
   "outputs": [
    {
     "output_type": "execute_result",
     "data": {
      "text/plain": [
       "array([[1.        , 0.66535948, 0.99215686, 0.99738562, 0.99869281,\n",
       "        0.99869281, 0.66535948, 0.99869281, 0.33333333, 0.        ,\n",
       "        0.99869281, 0.99869281, 0.99607843, 0.66535948, 0.66535948,\n",
       "        0.66666667, 0.99738562, 0.99738562, 0.99607843, 0.99738562,\n",
       "        0.99215686, 0.99215686],\n",
       "       [1.        , 0.66405229, 0.66535948, 0.6627451 , 0.66405229,\n",
       "        0.66535948, 0.66405229, 0.99607843, 0.33333333, 0.66666667,\n",
       "        0.99738562, 0.66405229, 0.99738562, 0.33202614, 0.66405229,\n",
       "        0.66666667, 0.99738562, 0.66666667, 0.99346405, 0.99477124,\n",
       "        0.66666667, 0.99738562],\n",
       "       [1.        , 0.99346405, 0.99346405, 0.99346405, 0.6627451 ,\n",
       "        0.99084967, 0.66143791, 0.99346405, 0.6627451 , 0.99738562,\n",
       "        0.99215686, 0.66405229, 0.99477124, 0.99477124, 0.66143791,\n",
       "        0.99607843, 1.        , 0.        , 0.99738562, 0.99607843,\n",
       "        0.99738562, 0.99738562],\n",
       "       [0.66666667, 0.99346405, 0.99738562, 0.66405229, 0.66666667,\n",
       "        0.99738562, 0.99346405, 0.98823529, 0.66143791, 0.66143791,\n",
       "        0.66405229, 0.66405229, 0.99738562, 0.99477124, 0.66535948,\n",
       "        0.99869281, 1.        , 0.66666667, 0.66535948, 0.99477124,\n",
       "        0.66405229, 0.66666667],\n",
       "       [0.66143791, 0.66535948, 0.66666667, 1.        , 1.        ,\n",
       "        1.        , 0.99607843, 0.99738562, 0.6627451 , 0.99346405,\n",
       "        0.98823529, 0.66013072, 0.99607843, 0.99477124, 0.66405229,\n",
       "        0.99738562, 0.66666667, 0.33333333, 0.99477124, 0.99084967,\n",
       "        0.99477124, 0.99869281],\n",
       "       [0.66535948, 0.99738562, 0.99084967, 0.99738562, 1.        ,\n",
       "        0.66666667, 0.66666667, 0.66666667, 0.66535948, 0.99215686,\n",
       "        0.98954248, 0.99477124, 0.99477124, 0.66535948, 0.66405229,\n",
       "        0.66535948, 0.99738562, 1.        , 0.99869281, 0.66535948,\n",
       "        0.66666667, 0.        ],\n",
       "       [0.66666667, 0.99738562, 0.99738562, 0.66405229, 0.66405229,\n",
       "        0.99738562, 0.66405229, 0.66666667, 0.66405229, 0.98954248,\n",
       "        0.99084967, 0.99084967, 0.99607843, 0.66666667, 0.99869281,\n",
       "        0.99738562, 0.99738562, 0.66666667, 0.99477124, 0.66535948,\n",
       "        0.66535948, 0.99738562],\n",
       "       [0.33333333, 0.66666667, 0.33333333, 1.        , 0.99738562,\n",
       "        0.66666667, 0.99477124, 0.66405229, 0.66405229, 0.66666667,\n",
       "        0.66666667, 0.66666667, 1.        , 1.        , 0.        ,\n",
       "        0.66666667, 1.        , 0.        , 1.        , 0.33333333,\n",
       "        0.33202614, 0.99738562],\n",
       "       [1.        , 1.        , 0.        , 0.        , 1.        ,\n",
       "        1.        , 1.        , 0.        , 0.        , 0.        ,\n",
       "        0.        , 1.        , 1.        , 0.        , 0.        ,\n",
       "        0.        , 0.33333333, 0.        , 0.        , 0.33333333,\n",
       "        0.66535948, 1.        ],\n",
       "       [0.        , 1.        , 1.        , 0.        , 0.        ,\n",
       "        0.        , 1.        , 0.        , 0.86666667, 0.85228758,\n",
       "        0.        , 0.66535948, 1.        , 0.85882353, 0.94640523,\n",
       "        0.        , 0.        , 1.        , 0.99738562, 0.99869281,\n",
       "        1.        , 1.        ],\n",
       "       [0.        , 0.        , 0.        , 1.        , 1.        ,\n",
       "        0.        , 0.        , 0.72026144, 0.12418301, 0.36993464,\n",
       "        0.67843137, 0.98823529, 0.        , 0.78039216, 0.61437908,\n",
       "        0.95686275, 0.        , 0.        , 0.33333333, 1.        ,\n",
       "        1.        , 0.        ],\n",
       "       [1.        , 1.        , 1.        , 1.        , 0.        ,\n",
       "        0.88366013, 0.55816993, 0.61176471, 0.60784314, 0.91764706,\n",
       "        0.78300654, 0.9254902 , 0.33333333, 0.        , 0.75816993,\n",
       "        0.7620915 , 0.        , 0.        , 0.        , 0.        ,\n",
       "        0.        , 0.        ],\n",
       "       [1.        , 1.        , 1.        , 0.        , 0.85882353,\n",
       "        0.38431373, 0.76078431, 0.        , 0.95555556, 0.        ,\n",
       "        0.        , 0.99869281, 0.66535948, 0.        , 0.81699346,\n",
       "        0.64575163, 0.        , 0.        , 0.        , 0.33333333,\n",
       "        0.        , 0.        ],\n",
       "       [0.        , 0.        , 0.        , 0.98823529, 0.43529412,\n",
       "        0.75294118, 0.        , 0.33333333, 0.96601307, 0.99215686,\n",
       "        0.33333333, 0.33333333, 1.        , 0.        , 0.67843137,\n",
       "        0.73464052, 0.        , 0.        , 0.66666667, 0.66535948,\n",
       "        0.33202614, 0.        ],\n",
       "       [0.        , 0.        , 0.        , 0.9503268 , 0.35686275,\n",
       "        0.94248366, 0.        , 0.66535948, 0.99738562, 0.98039216,\n",
       "        0.33333333, 0.        , 0.        , 0.81568627, 0.49411765,\n",
       "        0.93986928, 0.        , 0.        , 0.66666667, 0.66535948,\n",
       "        0.33333333, 1.        ],\n",
       "       [0.        , 0.        , 0.        , 0.98039216, 0.35294118,\n",
       "        0.83529412, 0.        , 0.        , 0.        , 0.97647059,\n",
       "        0.        , 0.96470588, 0.69019608, 0.51895425, 0.8745098 ,\n",
       "        0.        , 0.        , 0.        , 0.        , 0.        ,\n",
       "        0.        , 0.        ],\n",
       "       [0.        , 0.        , 0.        , 0.        , 0.65228758,\n",
       "        0.39477124, 0.79346405, 0.90718954, 0.91372549, 0.8       ,\n",
       "        0.6496732 , 0.54771242, 0.59607843, 0.95555556, 0.        ,\n",
       "        1.        , 0.        , 0.        , 0.        , 0.        ,\n",
       "        0.        , 0.        ],\n",
       "       [0.        , 0.        , 0.        , 0.        , 1.        ,\n",
       "        0.72810458, 0.51503268, 0.5124183 , 0.47712418, 0.55816993,\n",
       "        0.70065359, 0.91764706, 0.        , 0.        , 0.        ,\n",
       "        0.66666667, 0.        , 0.        , 0.        , 0.        ,\n",
       "        0.        , 0.        ],\n",
       "       [0.66666667, 0.99869281, 0.33333333, 0.33333333, 0.        ,\n",
       "        0.        , 0.        , 0.99607843, 0.98954248, 0.        ,\n",
       "        0.        , 0.        , 0.66666667, 0.66666667, 0.33333333,\n",
       "        0.33333333, 0.        , 1.        , 0.        , 0.        ,\n",
       "        0.        , 1.        ],\n",
       "       [0.        , 0.66666667, 0.        , 0.        , 0.        ,\n",
       "        0.        , 0.        , 0.        , 0.        , 0.        ,\n",
       "        0.        , 0.        , 1.        , 1.        , 1.        ,\n",
       "        0.        , 0.        , 0.        , 1.        , 0.        ,\n",
       "        0.        , 0.        ],\n",
       "       [0.        , 0.        , 0.        , 0.        , 0.        ,\n",
       "        0.        , 0.        , 0.        , 0.        , 1.        ,\n",
       "        1.        , 0.        , 0.33333333, 0.33333333, 0.99869281,\n",
       "        0.        , 0.        , 0.        , 1.        , 1.        ,\n",
       "        0.        , 0.        ],\n",
       "       [0.        , 0.        , 0.        , 0.        , 0.        ,\n",
       "        0.        , 1.        , 1.        , 0.        , 1.        ,\n",
       "        0.33333333, 0.33333333, 0.33202614, 0.66405229, 0.99738562,\n",
       "        0.33333333, 0.        , 0.        , 1.        , 0.33333333,\n",
       "        0.99607843, 1.        ]])"
      ]
     },
     "metadata": {},
     "execution_count": 20
    }
   ],
   "source": [
    "images[6]"
   ]
  },
  {
   "cell_type": "code",
   "execution_count": 15,
   "metadata": {},
   "outputs": [
    {
     "output_type": "display_data",
     "data": {
      "text/plain": "<Figure size 432x288 with 1 Axes>",
      "image/svg+xml": "<?xml version=\"1.0\" encoding=\"utf-8\" standalone=\"no\"?>\r\n<!DOCTYPE svg PUBLIC \"-//W3C//DTD SVG 1.1//EN\"\r\n  \"http://www.w3.org/Graphics/SVG/1.1/DTD/svg11.dtd\">\r\n<!-- Created with matplotlib (https://matplotlib.org/) -->\r\n<svg height=\"248.518125pt\" version=\"1.1\" viewBox=\"0 0 261.105625 248.518125\" width=\"261.105625pt\" xmlns=\"http://www.w3.org/2000/svg\" xmlns:xlink=\"http://www.w3.org/1999/xlink\">\r\n <metadata>\r\n  <rdf:RDF xmlns:cc=\"http://creativecommons.org/ns#\" xmlns:dc=\"http://purl.org/dc/elements/1.1/\" xmlns:rdf=\"http://www.w3.org/1999/02/22-rdf-syntax-ns#\">\r\n   <cc:Work>\r\n    <dc:type rdf:resource=\"http://purl.org/dc/dcmitype/StillImage\"/>\r\n    <dc:date>2021-03-23T18:53:10.232924</dc:date>\r\n    <dc:format>image/svg+xml</dc:format>\r\n    <dc:creator>\r\n     <cc:Agent>\r\n      <dc:title>Matplotlib v3.3.1, https://matplotlib.org/</dc:title>\r\n     </cc:Agent>\r\n    </dc:creator>\r\n   </cc:Work>\r\n  </rdf:RDF>\r\n </metadata>\r\n <defs>\r\n  <style type=\"text/css\">*{stroke-linecap:butt;stroke-linejoin:round;}</style>\r\n </defs>\r\n <g id=\"figure_1\">\r\n  <g id=\"patch_1\">\r\n   <path d=\"M 0 248.518125 \r\nL 261.105625 248.518125 \r\nL 261.105625 0 \r\nL 0 0 \r\nz\r\n\" style=\"fill:none;\"/>\r\n  </g>\r\n  <g id=\"axes_1\">\r\n   <g id=\"patch_2\">\r\n    <path d=\"M 36.465625 224.64 \r\nL 253.905625 224.64 \r\nL 253.905625 7.2 \r\nL 36.465625 7.2 \r\nz\r\n\" style=\"fill:#ffffff;\"/>\r\n   </g>\r\n   <g clip-path=\"url(#p0da6233cd4)\">\r\n    <image height=\"218\" id=\"image9ee3bff2ad\" transform=\"scale(1 -1)translate(0 -218)\" width=\"218\" x=\"36.465625\" xlink:href=\"data:image/png;base64,\r\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\" y=\"-6.64\"/>\r\n   </g>\r\n   <g id=\"matplotlib.axis_1\">\r\n    <g id=\"xtick_1\">\r\n     <g id=\"line2d_1\">\r\n      <defs>\r\n       <path d=\"M 0 0 \r\nL 0 3.5 \r\n\" id=\"m24c8884f67\" style=\"stroke:#000000;stroke-width:0.8;\"/>\r\n      </defs>\r\n      <g>\r\n       <use style=\"stroke:#000000;stroke-width:0.8;\" x=\"41.407443\" xlink:href=\"#m24c8884f67\" y=\"224.64\"/>\r\n      </g>\r\n     </g>\r\n     <g id=\"text_1\">\r\n      <!-- 0 -->\r\n      <g transform=\"translate(38.226193 239.238437)scale(0.1 -0.1)\">\r\n       <defs>\r\n        <path d=\"M 31.78125 66.40625 \r\nQ 24.171875 66.40625 20.328125 58.90625 \r\nQ 16.5 51.421875 16.5 36.375 \r\nQ 16.5 21.390625 20.328125 13.890625 \r\nQ 24.171875 6.390625 31.78125 6.390625 \r\nQ 39.453125 6.390625 43.28125 13.890625 \r\nQ 47.125 21.390625 47.125 36.375 \r\nQ 47.125 51.421875 43.28125 58.90625 \r\nQ 39.453125 66.40625 31.78125 66.40625 \r\nz\r\nM 31.78125 74.21875 \r\nQ 44.046875 74.21875 50.515625 64.515625 \r\nQ 56.984375 54.828125 56.984375 36.375 \r\nQ 56.984375 17.96875 50.515625 8.265625 \r\nQ 44.046875 -1.421875 31.78125 -1.421875 \r\nQ 19.53125 -1.421875 13.0625 8.265625 \r\nQ 6.59375 17.96875 6.59375 36.375 \r\nQ 6.59375 54.828125 13.0625 64.515625 \r\nQ 19.53125 74.21875 31.78125 74.21875 \r\nz\r\n\" id=\"DejaVuSans-48\"/>\r\n       </defs>\r\n       <use xlink:href=\"#DejaVuSans-48\"/>\r\n      </g>\r\n     </g>\r\n    </g>\r\n    <g id=\"xtick_2\">\r\n     <g id=\"line2d_2\">\r\n      <g>\r\n       <use style=\"stroke:#000000;stroke-width:0.8;\" x=\"90.825625\" xlink:href=\"#m24c8884f67\" y=\"224.64\"/>\r\n      </g>\r\n     </g>\r\n     <g id=\"text_2\">\r\n      <!-- 5 -->\r\n      <g transform=\"translate(87.644375 239.238437)scale(0.1 -0.1)\">\r\n       <defs>\r\n        <path d=\"M 10.796875 72.90625 \r\nL 49.515625 72.90625 \r\nL 49.515625 64.59375 \r\nL 19.828125 64.59375 \r\nL 19.828125 46.734375 \r\nQ 21.96875 47.46875 24.109375 47.828125 \r\nQ 26.265625 48.1875 28.421875 48.1875 \r\nQ 40.625 48.1875 47.75 41.5 \r\nQ 54.890625 34.8125 54.890625 23.390625 \r\nQ 54.890625 11.625 47.5625 5.09375 \r\nQ 40.234375 -1.421875 26.90625 -1.421875 \r\nQ 22.3125 -1.421875 17.546875 -0.640625 \r\nQ 12.796875 0.140625 7.71875 1.703125 \r\nL 7.71875 11.625 \r\nQ 12.109375 9.234375 16.796875 8.0625 \r\nQ 21.484375 6.890625 26.703125 6.890625 \r\nQ 35.15625 6.890625 40.078125 11.328125 \r\nQ 45.015625 15.765625 45.015625 23.390625 \r\nQ 45.015625 31 40.078125 35.4375 \r\nQ 35.15625 39.890625 26.703125 39.890625 \r\nQ 22.75 39.890625 18.8125 39.015625 \r\nQ 14.890625 38.140625 10.796875 36.28125 \r\nz\r\n\" id=\"DejaVuSans-53\"/>\r\n       </defs>\r\n       <use xlink:href=\"#DejaVuSans-53\"/>\r\n      </g>\r\n     </g>\r\n    </g>\r\n    <g id=\"xtick_3\">\r\n     <g id=\"line2d_3\">\r\n      <g>\r\n       <use style=\"stroke:#000000;stroke-width:0.8;\" x=\"140.243807\" xlink:href=\"#m24c8884f67\" y=\"224.64\"/>\r\n      </g>\r\n     </g>\r\n     <g id=\"text_3\">\r\n      <!-- 10 -->\r\n      <g transform=\"translate(133.881307 239.238437)scale(0.1 -0.1)\">\r\n       <defs>\r\n        <path d=\"M 12.40625 8.296875 \r\nL 28.515625 8.296875 \r\nL 28.515625 63.921875 \r\nL 10.984375 60.40625 \r\nL 10.984375 69.390625 \r\nL 28.421875 72.90625 \r\nL 38.28125 72.90625 \r\nL 38.28125 8.296875 \r\nL 54.390625 8.296875 \r\nL 54.390625 0 \r\nL 12.40625 0 \r\nz\r\n\" id=\"DejaVuSans-49\"/>\r\n       </defs>\r\n       <use xlink:href=\"#DejaVuSans-49\"/>\r\n       <use x=\"63.623047\" xlink:href=\"#DejaVuSans-48\"/>\r\n      </g>\r\n     </g>\r\n    </g>\r\n    <g id=\"xtick_4\">\r\n     <g id=\"line2d_4\">\r\n      <g>\r\n       <use style=\"stroke:#000000;stroke-width:0.8;\" x=\"189.661989\" xlink:href=\"#m24c8884f67\" y=\"224.64\"/>\r\n      </g>\r\n     </g>\r\n     <g id=\"text_4\">\r\n      <!-- 15 -->\r\n      <g transform=\"translate(183.299489 239.238437)scale(0.1 -0.1)\">\r\n       <use xlink:href=\"#DejaVuSans-49\"/>\r\n       <use x=\"63.623047\" xlink:href=\"#DejaVuSans-53\"/>\r\n      </g>\r\n     </g>\r\n    </g>\r\n    <g id=\"xtick_5\">\r\n     <g id=\"line2d_5\">\r\n      <g>\r\n       <use style=\"stroke:#000000;stroke-width:0.8;\" x=\"239.08017\" xlink:href=\"#m24c8884f67\" y=\"224.64\"/>\r\n      </g>\r\n     </g>\r\n     <g id=\"text_5\">\r\n      <!-- 20 -->\r\n      <g transform=\"translate(232.71767 239.238437)scale(0.1 -0.1)\">\r\n       <defs>\r\n        <path d=\"M 19.1875 8.296875 \r\nL 53.609375 8.296875 \r\nL 53.609375 0 \r\nL 7.328125 0 \r\nL 7.328125 8.296875 \r\nQ 12.9375 14.109375 22.625 23.890625 \r\nQ 32.328125 33.6875 34.8125 36.53125 \r\nQ 39.546875 41.84375 41.421875 45.53125 \r\nQ 43.3125 49.21875 43.3125 52.78125 \r\nQ 43.3125 58.59375 39.234375 62.25 \r\nQ 35.15625 65.921875 28.609375 65.921875 \r\nQ 23.96875 65.921875 18.8125 64.3125 \r\nQ 13.671875 62.703125 7.8125 59.421875 \r\nL 7.8125 69.390625 \r\nQ 13.765625 71.78125 18.9375 73 \r\nQ 24.125 74.21875 28.421875 74.21875 \r\nQ 39.75 74.21875 46.484375 68.546875 \r\nQ 53.21875 62.890625 53.21875 53.421875 \r\nQ 53.21875 48.921875 51.53125 44.890625 \r\nQ 49.859375 40.875 45.40625 35.40625 \r\nQ 44.1875 33.984375 37.640625 27.21875 \r\nQ 31.109375 20.453125 19.1875 8.296875 \r\nz\r\n\" id=\"DejaVuSans-50\"/>\r\n       </defs>\r\n       <use xlink:href=\"#DejaVuSans-50\"/>\r\n       <use x=\"63.623047\" xlink:href=\"#DejaVuSans-48\"/>\r\n      </g>\r\n     </g>\r\n    </g>\r\n   </g>\r\n   <g id=\"matplotlib.axis_2\">\r\n    <g id=\"ytick_1\">\r\n     <g id=\"line2d_6\">\r\n      <defs>\r\n       <path d=\"M 0 0 \r\nL -3.5 0 \r\n\" id=\"mbc8c47c1a3\" style=\"stroke:#000000;stroke-width:0.8;\"/>\r\n      </defs>\r\n      <g>\r\n       <use style=\"stroke:#000000;stroke-width:0.8;\" x=\"36.465625\" xlink:href=\"#mbc8c47c1a3\" y=\"12.141818\"/>\r\n      </g>\r\n     </g>\r\n     <g id=\"text_6\">\r\n      <!-- 0.0 -->\r\n      <g transform=\"translate(13.5625 15.941037)scale(0.1 -0.1)\">\r\n       <defs>\r\n        <path d=\"M 10.6875 12.40625 \r\nL 21 12.40625 \r\nL 21 0 \r\nL 10.6875 0 \r\nz\r\n\" id=\"DejaVuSans-46\"/>\r\n       </defs>\r\n       <use xlink:href=\"#DejaVuSans-48\"/>\r\n       <use x=\"63.623047\" xlink:href=\"#DejaVuSans-46\"/>\r\n       <use x=\"95.410156\" xlink:href=\"#DejaVuSans-48\"/>\r\n      </g>\r\n     </g>\r\n    </g>\r\n    <g id=\"ytick_2\">\r\n     <g id=\"line2d_7\">\r\n      <g>\r\n       <use style=\"stroke:#000000;stroke-width:0.8;\" x=\"36.465625\" xlink:href=\"#mbc8c47c1a3\" y=\"36.850909\"/>\r\n      </g>\r\n     </g>\r\n     <g id=\"text_7\">\r\n      <!-- 2.5 -->\r\n      <g transform=\"translate(13.5625 40.650128)scale(0.1 -0.1)\">\r\n       <use xlink:href=\"#DejaVuSans-50\"/>\r\n       <use x=\"63.623047\" xlink:href=\"#DejaVuSans-46\"/>\r\n       <use x=\"95.410156\" xlink:href=\"#DejaVuSans-53\"/>\r\n      </g>\r\n     </g>\r\n    </g>\r\n    <g id=\"ytick_3\">\r\n     <g id=\"line2d_8\">\r\n      <g>\r\n       <use style=\"stroke:#000000;stroke-width:0.8;\" x=\"36.465625\" xlink:href=\"#mbc8c47c1a3\" y=\"61.56\"/>\r\n      </g>\r\n     </g>\r\n     <g id=\"text_8\">\r\n      <!-- 5.0 -->\r\n      <g transform=\"translate(13.5625 65.359219)scale(0.1 -0.1)\">\r\n       <use xlink:href=\"#DejaVuSans-53\"/>\r\n       <use x=\"63.623047\" xlink:href=\"#DejaVuSans-46\"/>\r\n       <use x=\"95.410156\" xlink:href=\"#DejaVuSans-48\"/>\r\n      </g>\r\n     </g>\r\n    </g>\r\n    <g id=\"ytick_4\">\r\n     <g id=\"line2d_9\">\r\n      <g>\r\n       <use style=\"stroke:#000000;stroke-width:0.8;\" x=\"36.465625\" xlink:href=\"#mbc8c47c1a3\" y=\"86.269091\"/>\r\n      </g>\r\n     </g>\r\n     <g id=\"text_9\">\r\n      <!-- 7.5 -->\r\n      <g transform=\"translate(13.5625 90.06831)scale(0.1 -0.1)\">\r\n       <defs>\r\n        <path d=\"M 8.203125 72.90625 \r\nL 55.078125 72.90625 \r\nL 55.078125 68.703125 \r\nL 28.609375 0 \r\nL 18.3125 0 \r\nL 43.21875 64.59375 \r\nL 8.203125 64.59375 \r\nz\r\n\" id=\"DejaVuSans-55\"/>\r\n       </defs>\r\n       <use xlink:href=\"#DejaVuSans-55\"/>\r\n       <use x=\"63.623047\" xlink:href=\"#DejaVuSans-46\"/>\r\n       <use x=\"95.410156\" xlink:href=\"#DejaVuSans-53\"/>\r\n      </g>\r\n     </g>\r\n    </g>\r\n    <g id=\"ytick_5\">\r\n     <g id=\"line2d_10\">\r\n      <g>\r\n       <use style=\"stroke:#000000;stroke-width:0.8;\" x=\"36.465625\" xlink:href=\"#mbc8c47c1a3\" y=\"110.978182\"/>\r\n      </g>\r\n     </g>\r\n     <g id=\"text_10\">\r\n      <!-- 10.0 -->\r\n      <g transform=\"translate(7.2 114.777401)scale(0.1 -0.1)\">\r\n       <use xlink:href=\"#DejaVuSans-49\"/>\r\n       <use x=\"63.623047\" xlink:href=\"#DejaVuSans-48\"/>\r\n       <use x=\"127.246094\" xlink:href=\"#DejaVuSans-46\"/>\r\n       <use x=\"159.033203\" xlink:href=\"#DejaVuSans-48\"/>\r\n      </g>\r\n     </g>\r\n    </g>\r\n    <g id=\"ytick_6\">\r\n     <g id=\"line2d_11\">\r\n      <g>\r\n       <use style=\"stroke:#000000;stroke-width:0.8;\" x=\"36.465625\" xlink:href=\"#mbc8c47c1a3\" y=\"135.687273\"/>\r\n      </g>\r\n     </g>\r\n     <g id=\"text_11\">\r\n      <!-- 12.5 -->\r\n      <g transform=\"translate(7.2 139.486491)scale(0.1 -0.1)\">\r\n       <use xlink:href=\"#DejaVuSans-49\"/>\r\n       <use x=\"63.623047\" xlink:href=\"#DejaVuSans-50\"/>\r\n       <use x=\"127.246094\" xlink:href=\"#DejaVuSans-46\"/>\r\n       <use x=\"159.033203\" xlink:href=\"#DejaVuSans-53\"/>\r\n      </g>\r\n     </g>\r\n    </g>\r\n    <g id=\"ytick_7\">\r\n     <g id=\"line2d_12\">\r\n      <g>\r\n       <use style=\"stroke:#000000;stroke-width:0.8;\" x=\"36.465625\" xlink:href=\"#mbc8c47c1a3\" y=\"160.396364\"/>\r\n      </g>\r\n     </g>\r\n     <g id=\"text_12\">\r\n      <!-- 15.0 -->\r\n      <g transform=\"translate(7.2 164.195582)scale(0.1 -0.1)\">\r\n       <use xlink:href=\"#DejaVuSans-49\"/>\r\n       <use x=\"63.623047\" xlink:href=\"#DejaVuSans-53\"/>\r\n       <use x=\"127.246094\" xlink:href=\"#DejaVuSans-46\"/>\r\n       <use x=\"159.033203\" xlink:href=\"#DejaVuSans-48\"/>\r\n      </g>\r\n     </g>\r\n    </g>\r\n    <g id=\"ytick_8\">\r\n     <g id=\"line2d_13\">\r\n      <g>\r\n       <use style=\"stroke:#000000;stroke-width:0.8;\" x=\"36.465625\" xlink:href=\"#mbc8c47c1a3\" y=\"185.105455\"/>\r\n      </g>\r\n     </g>\r\n     <g id=\"text_13\">\r\n      <!-- 17.5 -->\r\n      <g transform=\"translate(7.2 188.904673)scale(0.1 -0.1)\">\r\n       <use xlink:href=\"#DejaVuSans-49\"/>\r\n       <use x=\"63.623047\" xlink:href=\"#DejaVuSans-55\"/>\r\n       <use x=\"127.246094\" xlink:href=\"#DejaVuSans-46\"/>\r\n       <use x=\"159.033203\" xlink:href=\"#DejaVuSans-53\"/>\r\n      </g>\r\n     </g>\r\n    </g>\r\n    <g id=\"ytick_9\">\r\n     <g id=\"line2d_14\">\r\n      <g>\r\n       <use style=\"stroke:#000000;stroke-width:0.8;\" x=\"36.465625\" xlink:href=\"#mbc8c47c1a3\" y=\"209.814545\"/>\r\n      </g>\r\n     </g>\r\n     <g id=\"text_14\">\r\n      <!-- 20.0 -->\r\n      <g transform=\"translate(7.2 213.613764)scale(0.1 -0.1)\">\r\n       <use xlink:href=\"#DejaVuSans-50\"/>\r\n       <use x=\"63.623047\" xlink:href=\"#DejaVuSans-48\"/>\r\n       <use x=\"127.246094\" xlink:href=\"#DejaVuSans-46\"/>\r\n       <use x=\"159.033203\" xlink:href=\"#DejaVuSans-48\"/>\r\n      </g>\r\n     </g>\r\n    </g>\r\n   </g>\r\n   <g id=\"patch_3\">\r\n    <path d=\"M 36.465625 224.64 \r\nL 36.465625 7.2 \r\n\" style=\"fill:none;stroke:#000000;stroke-linecap:square;stroke-linejoin:miter;stroke-width:0.8;\"/>\r\n   </g>\r\n   <g id=\"patch_4\">\r\n    <path d=\"M 253.905625 224.64 \r\nL 253.905625 7.2 \r\n\" style=\"fill:none;stroke:#000000;stroke-linecap:square;stroke-linejoin:miter;stroke-width:0.8;\"/>\r\n   </g>\r\n   <g id=\"patch_5\">\r\n    <path d=\"M 36.465625 224.64 \r\nL 253.905625 224.64 \r\n\" style=\"fill:none;stroke:#000000;stroke-linecap:square;stroke-linejoin:miter;stroke-width:0.8;\"/>\r\n   </g>\r\n   <g id=\"patch_6\">\r\n    <path d=\"M 36.465625 7.2 \r\nL 253.905625 7.2 \r\n\" style=\"fill:none;stroke:#000000;stroke-linecap:square;stroke-linejoin:miter;stroke-width:0.8;\"/>\r\n   </g>\r\n  </g>\r\n </g>\r\n <defs>\r\n  <clipPath id=\"p0da6233cd4\">\r\n   <rect height=\"217.44\" width=\"217.44\" x=\"36.465625\" y=\"7.2\"/>\r\n  </clipPath>\r\n </defs>\r\n</svg>\r\n",
      "image/png": "[encoded data removed]"
     },
     "metadata": {
      "needs_background": "light"
     }
    }
   ],
   "source": [
    "plt.figure()\n",
    "plt.imshow(images[6])\n",
    "plt.show()"
   ]
  },
  {
   "cell_type": "code",
   "execution_count": null,
   "metadata": {},
   "outputs": [],
   "source": []
  }
 ]
}