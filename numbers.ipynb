{
 "metadata": {
  "language_info": {
   "codemirror_mode": {
    "name": "ipython",
    "version": 3
   },
   "file_extension": ".py",
   "mimetype": "text/x-python",
   "name": "python",
   "nbconvert_exporter": "python",
   "pygments_lexer": "ipython3",
   "version": "3.8.2-final"
  },
  "orig_nbformat": 2,
  "kernelspec": {
   "name": "python3",
   "display_name": "Python 3.8.2 64-bit",
   "metadata": {
    "interpreter": {
     "hash": "2db524e06e9f5f4ffedc911c917cb75e12dbc923643829bf417064a77eb14d37"
    }
   }
  }
 },
 "nbformat": 4,
 "nbformat_minor": 2,
 "cells": [
  {
   "cell_type": "code",
   "execution_count": null,
   "metadata": {},
   "outputs": [],
   "source": [
    "#remember about clearing cache after changes in other files"
   ]
  },
  {
   "cell_type": "code",
   "execution_count": 1,
   "metadata": {},
   "outputs": [
    {
     "output_type": "stream",
     "name": "stdout",
     "text": [
      "2.4.1\n"
     ]
    }
   ],
   "source": [
    "# TensorFlow and tf.keras\n",
    "import tensorflow as tf\n",
    "\n",
    "# Helper libraries\n",
    "import numpy as np\n",
    "import matplotlib.pyplot as plt\n",
    "\n",
    "##if not working, try 'activate tensorflow' in console/terminal\n",
    "print(tf.__version__)"
   ]
  },
  {
   "cell_type": "code",
   "execution_count": 12,
   "metadata": {
    "tags": []
   },
   "outputs": [
    {
     "output_type": "stream",
     "name": "stdout",
     "text": [
      "[[[255 255 255 255]\n  [255 255 255 255]\n  [255 255 255 255]\n  ...\n  [255 254 255 255]\n  [255 254 255 255]\n  [255 253 255 255]]\n\n [[254 254 255 255]\n  [255 255 255 255]\n  [255 255 255 255]\n  ...\n  [255 253 255 255]\n  [253 251 254 255]\n  [255 253 255 255]]\n\n [[254 254 254 255]\n  [254 254 254 255]\n  [255 255 255 255]\n  ...\n  [255 253 255 255]\n  [253 251 254 255]\n  [251 249 251 255]]\n\n ...\n\n [[255 255 255 255]\n  [255 255 255 255]\n  [255 255 255 255]\n  ...\n  [254 253 255 255]\n  [255 254 255 255]\n  [252 250 253 255]]\n\n [[251 250 251 255]\n  [251 250 250 255]\n  [251 252 249 255]\n  ...\n  [253 253 252 255]\n  [249 249 249 255]\n  [251 251 250 255]]\n\n [[151 149 163 255]\n  [160 158 172 255]\n  [168 166 181 255]\n  ...\n  [250 247 255 255]\n  [241 238 246 255]\n  [255 253 255 255]]]\nlabels and images loaded to memory\n"
     ]
    }
   ],
   "source": [
    "#load images as arrays\n",
    "from filesService import getNumbers\n",
    "labels, images = getNumbers()\n",
    "print(images)\n",
    "print('labels and images loaded to memory')\n"
   ]
  },
  {
   "cell_type": "code",
   "execution_count": 15,
   "metadata": {},
   "outputs": [
    {
     "output_type": "stream",
     "name": "stdout",
     "text": [
      "<class 'numpy.str_'>\n<class 'numpy.ndarray'>\n"
     ]
    }
   ],
   "source": [
    "print(type(labels))\n",
    "print(type(images))"
   ]
  },
  {
   "cell_type": "code",
   "execution_count": null,
   "metadata": {},
   "outputs": [],
   "source": []
  }
 ]
}